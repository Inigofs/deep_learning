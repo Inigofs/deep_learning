{
 "cells": [
  {
   "cell_type": "markdown",
   "metadata": {
    "colab_type": "text",
    "id": "hIvrM7xt2TQY"
   },
   "source": [
    "# dogs VS cats\n"
   ]
  },
  {
   "cell_type": "markdown",
   "metadata": {
    "colab_type": "text",
    "id": "ShvuViMODvg6"
   },
   "source": [
    "<br><li>Se abre la sesión en Colab</li>"
   ]
  },
  {
   "cell_type": "code",
   "execution_count": 36,
   "metadata": {
    "colab": {
     "base_uri": "https://localhost:8080/",
     "height": 35
    },
    "colab_type": "code",
    "id": "yrWaqe5LEuTK",
    "outputId": "978e0d4e-a19a-4668-c1b6-68cdbf9a2420"
   },
   "outputs": [
    {
     "name": "stdout",
     "output_type": "stream",
     "text": [
      "Drive already mounted at /content/drive/; to attempt to forcibly remount, call drive.mount(\"/content/drive/\", force_remount=True).\n"
     ]
    }
   ],
   "source": [
    "from google.colab import drive\n",
    "drive.mount('/content/drive/')"
   ]
  },
  {
   "cell_type": "code",
   "execution_count": 37,
   "metadata": {
    "colab": {
     "base_uri": "https://localhost:8080/",
     "height": 72
    },
    "colab_type": "code",
    "id": "tPd0IhPwCpOq",
    "outputId": "bf1658de-66f8-4fb2-8ad0-c2ce76ff526d"
   },
   "outputs": [
    {
     "name": "stdout",
     "output_type": "stream",
     "text": [
      "Files in Drive:\n",
      "catsVSdogs    img\t      prueba\t\tX_test.plk   Y_test.plk\n",
      "cnd_dict.pkz  model1_fit.pkz  transformed_data\tX_train.plk  Y_train.plk\n"
     ]
    }
   ],
   "source": [
    "print ('Files in Drive:')\n",
    "!ls \"/content/drive/My Drive/MDS/38_Deep Learning/practice/data\""
   ]
  },
  {
   "cell_type": "markdown",
   "metadata": {
    "colab_type": "text",
    "id": "NKKUrvMY3LIV"
   },
   "source": [
    "Lastly, if you need any help on the usage of a Python function you can place the writing cursor over its name and press Caps+Shift to produce a pop-out with related documentation. This will only work inside code cells.<br><br>\n",
    "\n",
    "Let's go!<br><br>"
   ]
  },
  {
   "cell_type": "markdown",
   "metadata": {
    "colab_type": "text",
    "id": "w4-ZHSmvBtth"
   },
   "source": [
    "# Libraries"
   ]
  },
  {
   "cell_type": "code",
   "execution_count": 0,
   "metadata": {
    "colab": {},
    "colab_type": "code",
    "id": "DtaqtJNwCUr3"
   },
   "outputs": [],
   "source": [
    "import matplotlib.pyplot as plt\n",
    "%matplotlib inline\n",
    "import seaborn as sns\n",
    "import warnings\n",
    "warnings.filterwarnings('ignore')\n",
    "import pandas as pd\n",
    "import numpy as np\n",
    "import math\n",
    "import glob\n",
    "import os\n",
    "from skimage.io import imread\n",
    "from skimage.transform import resize\n",
    "from sklearn.preprocessing import MinMaxScaler\n",
    "import random\n",
    "from functools import reduce # to run reduce tool from mapReduce.\n",
    "import gzip # to compress files\n",
    "import pickle # to save files -fitted models\n",
    "from keras.utils import np_utils # to make continuos variables categorical ones\n",
    "from keras.callbacks import Callback\n",
    "from keras.callbacks import History\n",
    "from keras.models import Sequential\n",
    "from keras.layers.core import Dense\n",
    "from keras.layers.core import Activation\n",
    "from keras.layers.core import Dropout\n",
    "from keras.layers.convolutional import Convolution2D, MaxPooling2D, AveragePooling2D\n",
    "from keras.layers.core import Flatten\n",
    "from keras.layers import GlobalAveragePooling2D\n",
    "from sklearn.metrics import accuracy_score, recall_score, precision_score, confusion_matrix"
   ]
  },
  {
   "cell_type": "code",
   "execution_count": 0,
   "metadata": {
    "colab": {},
    "colab_type": "code",
    "id": "OZuMXQtv4Duo"
   },
   "outputs": [],
   "source": [
    "rnd= random.seed(77)\n",
    "rnd_np= np.random.seed(77)"
   ]
  },
  {
   "cell_type": "markdown",
   "metadata": {
    "colab_type": "text",
    "id": "zrV19rqQNalO"
   },
   "source": [
    "# Functions"
   ]
  },
  {
   "cell_type": "markdown",
   "metadata": {
    "colab_type": "text",
    "id": "frGkJO-zNfj_"
   },
   "source": [
    "### Load data"
   ]
  },
  {
   "cell_type": "code",
   "execution_count": 0,
   "metadata": {
    "colab": {},
    "colab_type": "code",
    "id": "CfO2T6lk4Drb"
   },
   "outputs": [],
   "source": [
    "def file_load(dataset,animal,size,scaler_range):\n",
    "    X,y = [],[]\n",
    "    scaler= MinMaxScaler(feature_range= scaler_range)\n",
    "    for file in glob.glob('/content/drive/My Drive/MDS/38_Deep Learning/practice/data/catsVSdogs/' + dataset + '/' + animal + '/*.jpg'):\n",
    "        # get the X features\n",
    "        image = imread(file)\n",
    "        X.append(np.array([scaler.fit_transform(elem) for elem in resize(image, size, mode=\"reflect\")]))\n",
    "        # get the y labels\n",
    "        if animal == 'cats':\n",
    "            y.append(0)\n",
    "        elif animal == 'dogs':\n",
    "            y.append(1)\n",
    "        else:\n",
    "            y.append(99)\n",
    "    return zip(X,y)"
   ]
  },
  {
   "cell_type": "markdown",
   "metadata": {
    "colab_type": "text",
    "id": "k4VbIREwNmQ7"
   },
   "source": [
    "### Sort a list"
   ]
  },
  {
   "cell_type": "code",
   "execution_count": 0,
   "metadata": {
    "colab": {},
    "colab_type": "code",
    "id": "Ln7B-DGS4Dn0"
   },
   "outputs": [],
   "source": [
    "def sortList(x,positionList):\n",
    "    return [x[pos] for pos in positionList]"
   ]
  },
  {
   "cell_type": "markdown",
   "metadata": {
    "colab_type": "text",
    "id": "CPOUy6VBNnVq"
   },
   "source": [
    "### Save compressed file"
   ]
  },
  {
   "cell_type": "code",
   "execution_count": 0,
   "metadata": {
    "colab": {},
    "colab_type": "code",
    "id": "XYv7J8Yf4Djs"
   },
   "outputs": [],
   "source": [
    "def compressedFileSave(pathName,fileName,fileExtension,variable):\n",
    "    if fileExtension=='pkz':\n",
    "      f = gzip.open(pathName+fileName+'.'+fileExtension, mode='wb', compresslevel=9)\n",
    "    elif fileExtension == 'plk':\n",
    "      f = open(pathName+fileName+'.'+fileExtension, mode='wb', compresslevel=9)\n",
    "    pickle.dump(variable, f, protocol=3)\n",
    "    f.close()"
   ]
  },
  {
   "cell_type": "markdown",
   "metadata": {
    "colab_type": "text",
    "id": "uqgeuBtXNoce"
   },
   "source": [
    "### Load compressed file"
   ]
  },
  {
   "cell_type": "code",
   "execution_count": 0,
   "metadata": {
    "colab": {},
    "colab_type": "code",
    "id": "a60bCZSq4DfE"
   },
   "outputs": [],
   "source": [
    "def compressedFileLoad(pathName,fileName,fileExtension):\n",
    "    if fileExtension=='pkz':\n",
    "      f = gzip.open(pathName+fileName+'.'+fileExtension, mode='rb')\n",
    "    elif fileExtension == 'plk':\n",
    "      f = open(pathName+fileName+'.'+fileExtension, mode='rb')\n",
    "    aux = pickle.load(f)\n",
    "    f.close()\n",
    "    return aux"
   ]
  },
  {
   "cell_type": "markdown",
   "metadata": {
    "colab_type": "text",
    "id": "mvq-q6Bs-qpX"
   },
   "source": [
    "### Plot Confusion Matrix"
   ]
  },
  {
   "cell_type": "code",
   "execution_count": 0,
   "metadata": {
    "colab": {},
    "colab_type": "code",
    "id": "u11Y0XDO-q3C"
   },
   "outputs": [],
   "source": [
    "def plot_confusion_matrix(cm, dim, model):\n",
    "  #plt.figure( figsize=(6, 4))\n",
    "  n_colors = 2\n",
    "  cMap = plt.cm.get_cmap(\"tab20c\", lut=n_colors ) \n",
    "\n",
    "  vmax= dim\n",
    "  plt.title('Model Confusion Matrix for '+ model)\n",
    "  h_map = sns.heatmap(cm,\n",
    "                      vmin=0, vmax= vmax,\n",
    "                      cmap=cMap, \n",
    "                      annot=True,\n",
    "                      fmt=\".0f\")\n",
    "\n",
    "  cbar = h_map.collections[0].colorbar\n",
    "  l_ticks = [0,vmax/2,vmax]\n",
    "  cbar.set_ticks(l_ticks)"
   ]
  },
  {
   "cell_type": "markdown",
   "metadata": {
    "colab_type": "text",
    "id": "6k42xbQKB5Nw"
   },
   "source": [
    "### Loss History Class"
   ]
  },
  {
   "cell_type": "code",
   "execution_count": 0,
   "metadata": {
    "colab": {},
    "colab_type": "code",
    "id": "65c89GoIB3vN"
   },
   "outputs": [],
   "source": [
    "class LossHistory(Callback):\n",
    "    def on_train_begin(self, logs={}):\n",
    "        self.losses = []\n",
    "\n",
    "    def on_batch_end(self, batch, logs={}):\n",
    "        self.losses.append(logs.get('loss'))"
   ]
  },
  {
   "cell_type": "markdown",
   "metadata": {
    "colab_type": "text",
    "id": "aX7ciyJ-3T0E"
   },
   "source": [
    "# Data processing\n",
    "The images to use in this assignment are available here. Download the data package and extract it into a folder in your computer.<br><br>\n",
    "\n",
    "Data is structured under two folders, train and test. You are only allowed to use the test data to measure the performance of your model after you have finished training. Both train and test folders contain one subfolder per class (cats and dogs).<br><br>\n",
    "\n",
    "The recommended way to load an image from disk is to use the imread function from the scikit-image library. For example:<br><br>"
   ]
  },
  {
   "cell_type": "markdown",
   "metadata": {
    "colab_type": "text",
    "id": "hJdsggbjOQuz"
   },
   "source": [
    "## Example"
   ]
  },
  {
   "cell_type": "code",
   "execution_count": 0,
   "metadata": {
    "colab": {},
    "colab_type": "code",
    "id": "GGHAFhhz3apW"
   },
   "outputs": [],
   "source": [
    "from skimage.io import imread\n",
    "\n",
    "image = imread(\"/content/drive/My Drive/MDS/38_Deep Learning/practice/data/img/sample.jpg\")"
   ]
  },
  {
   "cell_type": "markdown",
   "metadata": {
    "colab_type": "text",
    "id": "NQtoIzHk3f9Q"
   },
   "source": [
    "This returns the image as 3-dimensional numpy matrix, containing the value of intensity of every pixel in each row, column and color channel."
   ]
  },
  {
   "cell_type": "code",
   "execution_count": 47,
   "metadata": {
    "colab": {
     "base_uri": "https://localhost:8080/",
     "height": 35
    },
    "colab_type": "code",
    "id": "uli8Dxav3g4w",
    "outputId": "f4e32ab2-b5f6-4b4c-a8c8-100bae37ef34"
   },
   "outputs": [
    {
     "data": {
      "text/plain": [
       "(499, 367, 3)"
      ]
     },
     "execution_count": 47,
     "metadata": {
      "tags": []
     },
     "output_type": "execute_result"
    }
   ],
   "source": [
    "image.shape"
   ]
  },
  {
   "cell_type": "markdown",
   "metadata": {
    "colab_type": "text",
    "id": "zr37q_4a3hMn"
   },
   "source": [
    "We can visualize the loaded image using"
   ]
  },
  {
   "cell_type": "code",
   "execution_count": 48,
   "metadata": {
    "colab": {
     "base_uri": "https://localhost:8080/",
     "height": 287
    },
    "colab_type": "code",
    "id": "RVI4nl3b3mMt",
    "outputId": "78eb6c6f-edc2-4cd4-93bf-d2f89e26e8fb"
   },
   "outputs": [
    {
     "data": {
      "text/plain": [
       "<matplotlib.image.AxesImage at 0x7fe65c77fdd8>"
      ]
     },
     "execution_count": 48,
     "metadata": {
      "tags": []
     },
     "output_type": "execute_result"
    },
    {
     "data": {
      "image/png": "[encoded data removed]",
      "text/plain": [
       "<Figure size 432x288 with 1 Axes>"
      ]
     },
     "metadata": {
      "tags": []
     },
     "output_type": "display_data"
    }
   ],
   "source": [
    "plt.imshow(image)"
   ]
  },
  {
   "cell_type": "markdown",
   "metadata": {
    "colab_type": "text",
    "id": "ZcHqQjAJ3mq8"
   },
   "source": [
    "The dataset includes 20000 training images and 5000 test images, each image at a different resolution. Loading all this data at once requires too much memory, so we will need to resize each image to a smaller, common size as we load them from disk. We can do so by again making use of a scikit-image function. For example:"
   ]
  },
  {
   "cell_type": "code",
   "execution_count": 49,
   "metadata": {
    "colab": {
     "base_uri": "https://localhost:8080/",
     "height": 286
    },
    "colab_type": "code",
    "id": "mW4_qyc13tN6",
    "outputId": "d6817668-8aab-4055-fc5e-41a251de1adb"
   },
   "outputs": [
    {
     "data": {
      "text/plain": [
       "<matplotlib.image.AxesImage at 0x7fe65c6a0f28>"
      ]
     },
     "execution_count": 49,
     "metadata": {
      "tags": []
     },
     "output_type": "execute_result"
    },
    {
     "data": {
      "image/png": "[encoded data removed]",
      "text/plain": [
       "<Figure size 432x288 with 1 Axes>"
      ]
     },
     "metadata": {
      "tags": []
     },
     "output_type": "display_data"
    }
   ],
   "source": [
    "from skimage.transform import resize\n",
    "\n",
    "size = 64\n",
    "smallimage = resize(image, (64, 64, 3), mode=\"reflect\")  # 64 x 64 pixels, 3 color channels\n",
    "plt.imshow(smallimage)"
   ]
  },
  {
   "cell_type": "markdown",
   "metadata": {
    "colab_type": "text",
    "id": "oVBfX3HS3tsm"
   },
   "source": [
    "***\n",
    "\n",
    "<font color=#ad3e26>\n",
    "    \n",
    "Perform the following tasks to prepare the data:\n",
    "- Build a numpy array *X_train* containing one entry for each training image in the data. Each entry must contain the 3-dimensional matrix of pixels corresponding to an image. Make sure to scale down each image to a common size\n",
    "- Normalize *X_train* so that pixels follow a distribution lying in the range [-0.5,0.5]\n",
    "- Build a corresponding array *Y_train* with the class of each training image (0 for cats and 1 for dogs).\n",
    "- Randomly shuffle the data. Make sure you shuffle both *X_train* and *Y_train* using the same permutation, so you don't lose track of the class of each training pattern.\n",
    "\n",
    "- Repeat the whole procedure again to generate *X_test* and *Y_test* matrices for the test data.\n",
    "</font>\n",
    "\n",
    "***"
   ]
  },
  {
   "cell_type": "markdown",
   "metadata": {
    "colab_type": "text",
    "id": "nJEKE7VD3686"
   },
   "source": [
    "***\n",
    "<font color=#2655ad>\n",
    "- Take advantage of the *glob* package to generate the filename lists for the indoor and outdoor subfolders.\n",
    "- Since you need to repeat the procedure both for training and test data, it would be useful to implement a function that performs all the data loading and transforming steps.\n",
    "</font>\n",
    "\n",
    "***"
   ]
  },
  {
   "cell_type": "markdown",
   "metadata": {
    "colab_type": "text",
    "id": "Mff0ndS0OUa3"
   },
   "source": [
    "## Load data set"
   ]
  },
  {
   "cell_type": "markdown",
   "metadata": {
    "colab_type": "text",
    "id": "vdoKAoGN4Mkn"
   },
   "source": [
    "<br><li>Se obtiene un dictionario con las imágenes y su label, 0 o 1 según corresponda a <i>cat</i> o <i>dog</i>. Además, se escala al rango (-0.5,0.5)</li>"
   ]
  },
  {
   "cell_type": "code",
   "execution_count": 0,
   "metadata": {
    "colab": {},
    "colab_type": "code",
    "id": "qeGMPH1j4Nd7"
   },
   "outputs": [],
   "source": [
    "#datasetList= ['train','test']\n",
    "#animalList= ['cats','dogs']\n",
    "#size= (64, 64, 3)\n",
    "#scaler_range= (-0.5,0.5)\n",
    "#cnd_dict={\n",
    "#    dataset:{\n",
    "#        animal:{\n",
    "#            'X': [elem[0] for elem in list(file_load(dataset,animal,size,scaler_range))],\n",
    "#            'y': [elem[1] for elem in list(file_load(dataset,animal,size,scaler_range))]\n",
    "#        }\n",
    "#        for animal in animalList\n",
    "#    } \n",
    "#    for dataset in datasetList\n",
    "#}"
   ]
  },
  {
   "cell_type": "markdown",
   "metadata": {
    "colab_type": "text",
    "id": "veXBbJaSBjx_"
   },
   "source": [
    "<br><li>Comprobación</li>\n"
   ]
  },
  {
   "cell_type": "code",
   "execution_count": 0,
   "metadata": {
    "colab": {},
    "colab_type": "code",
    "id": "pIB2-idvAftO"
   },
   "outputs": [],
   "source": [
    "#len(cnd_dict['train']['cats']['X']) == 20000,len(cnd_dict['train']['cats']['y']) == 20000,\\\n",
    "#len(cnd_dict['train']['dogs']['X']) == 20000,len(cnd_dict['train']['dogs']['y']) == 20000,\\\n",
    "#len(cnd_dict['test']['cats']['X']) == 5000,len(cnd_dict['test']['cats']['y']) == 5000,\\\n",
    "#len(cnd_dict['test']['dogs']['X']) == 5000,len(cnd_dict['test']['dogs']['y']) == 5000"
   ]
  },
  {
   "cell_type": "markdown",
   "metadata": {
    "colab_type": "text",
    "id": "YM_cv6Vx4fkZ"
   },
   "source": [
    "<br>\n",
    "<li>Guardado del diccionario.</li>"
   ]
  },
  {
   "cell_type": "code",
   "execution_count": 0,
   "metadata": {
    "colab": {},
    "colab_type": "code",
    "id": "hC9z1Pmw4fVB"
   },
   "outputs": [],
   "source": [
    "#variable= cnd_dict\n",
    "#fileName= 'cnd_dict'\n",
    "#fileExtension='pkz'\n",
    "#pathName= '/content/drive/My Drive/MDS/38_Deep Learning/practice/data/'\n",
    "#compressedFileSave(pathName,fileName,fileExtension,variable)"
   ]
  },
  {
   "cell_type": "markdown",
   "metadata": {
    "colab_type": "text",
    "id": "JQy2RKVc4fM5"
   },
   "source": [
    "<br>\n",
    "<li>Carga del diccionario.</li>"
   ]
  },
  {
   "cell_type": "code",
   "execution_count": 0,
   "metadata": {
    "colab": {},
    "colab_type": "code",
    "id": "sS3L2PAm-tLI"
   },
   "outputs": [],
   "source": [
    "#fileName= 'cnd_dict'\n",
    "#pathName= '/content/drive/My Drive/MDS/38_Deep Learning/practice/data/'\n",
    "#cnd_dict=compressedFileLoad(pathName,fileName)"
   ]
  },
  {
   "cell_type": "code",
   "execution_count": 0,
   "metadata": {
    "colab": {},
    "colab_type": "code",
    "id": "y5wxnnnHuTPs"
   },
   "outputs": [],
   "source": [
    "#len(cnd_dict['train']['cats']['X'])==10000,len(cnd_dict['train']['cats']['y'])==10000,len(cnd_dict['train']['dogs']['X'])==10000,len(cnd_dict['train']['dogs']['y'])==10000,\\\n",
    "#len(cnd_dict['test']['cats']['X'])==2500,len(cnd_dict['test']['cats']['y'])==2500,len(cnd_dict['test']['dogs']['X'])==2500,len(cnd_dict['test']['dogs']['y'])==2500"
   ]
  },
  {
   "cell_type": "code",
   "execution_count": 0,
   "metadata": {
    "colab": {},
    "colab_type": "code",
    "id": "zi9z3EpY4e_o"
   },
   "outputs": [],
   "source": [
    "#fileName= 'cnd_dict'\n",
    "#pathName= '/content/drive/My Drive/MDS/38_Deep Learning/practice/data/'\n",
    "#fileExtension='pkz'\n",
    "#cnd_dict= compressedFileLoad(pathName,fileName,fileExtension)"
   ]
  },
  {
   "cell_type": "markdown",
   "metadata": {
    "colab_type": "text",
    "id": "Kprpptv6OeZa"
   },
   "source": [
    "## Training and Testing data set"
   ]
  },
  {
   "cell_type": "markdown",
   "metadata": {
    "colab_type": "text",
    "id": "ORS3b2o04e3I"
   },
   "source": [
    "<br>\n",
    "<li>Se construye el training y testing data set y se realiza el shuffle a nivel indice entre <i>cat</i> y <i>dog</i>.</li>"
   ]
  },
  {
   "cell_type": "code",
   "execution_count": 0,
   "metadata": {
    "colab": {},
    "colab_type": "code",
    "id": "-wEdZ1eU4esk"
   },
   "outputs": [],
   "source": [
    "#X_train_orig, y_train_orig= reduce(lambda x,y: x+y, [cnd_dict['train'][animal]['X'] for animal in animalList]), reduce(lambda x,y: x+y, [cnd_dict['train'][animal]['y'] for animal in animalList])\n",
    "#train_index= list(range(len(X_train_orig)))\n",
    "#train_index_shff= train_index\n",
    "#random.shuffle(train_index_shff)\n",
    "#X_train,y_train= [sortList(elem,train_index_shff) for elem in [X_train_orig, y_train_orig]]\n",
    "#X_train,y_train= np.array(X_train),np.array(y_train)"
   ]
  },
  {
   "cell_type": "code",
   "execution_count": 0,
   "metadata": {
    "colab": {},
    "colab_type": "code",
    "id": "iLpYbjX8436k"
   },
   "outputs": [],
   "source": [
    "#X_test_orig, y_test_orign= reduce(lambda x,y: x+y, [cnd_dict['test'][animal]['X'] for animal in animalList]), reduce(lambda x,y: x+y, [cnd_dict['test'][animal]['y'] for animal in animalList])\n",
    "#X_test_orig, y_test_orig= reduce(lambda x,y: x+y, [cnd_dict['test'][animal]['X'] for animal in animalList]), reduce(lambda x,y: x+y, [cnd_dict['test'][animal]['y'] for animal in animalList])\n",
    "#test_index= list(range(len(X_test_orig)))\n",
    "#test_index_shff= test_index\n",
    "#random.shuffle(test_index_shff)\n",
    "#X_test,y_test= [sortList(elem,test_index_shff) for elem in [X_test_orig, y_test_orig]]\n",
    "#X_test,y_test= np.array(X_test),np.array(y_test)"
   ]
  },
  {
   "cell_type": "markdown",
   "metadata": {
    "colab_type": "text",
    "id": "WGx8nt9s4eQe"
   },
   "source": [
    "<br><li>Guardado de los data sets.</li>"
   ]
  },
  {
   "cell_type": "code",
   "execution_count": 0,
   "metadata": {
    "colab": {},
    "colab_type": "code",
    "id": "TxUV6-PX4dzk"
   },
   "outputs": [],
   "source": [
    "#variable_list= [X_train,y_train,X_test,y_test]\n",
    "#fileName_list= ['X_train','y_train','X_test','y_test']\n",
    "#fileExtension='pkz'\n",
    "#pathName= '/content/drive/My Drive/MDS/38_Deep Learning/practice/data/'\n",
    "#_=[compressedFileSave(pathName,fileName,fileExtension,variable) for fileName, variable in zip(fileName_list,variable_list)]"
   ]
  },
  {
   "cell_type": "markdown",
   "metadata": {
    "colab_type": "text",
    "id": "uWrtPQ3E3ZkU"
   },
   "source": [
    "<br><li>Carga de los data sets.</li>"
   ]
  },
  {
   "cell_type": "code",
   "execution_count": 0,
   "metadata": {
    "colab": {},
    "colab_type": "code",
    "id": "WZojMqPY3ZPC"
   },
   "outputs": [],
   "source": [
    "pathName= '/content/drive/My Drive/MDS/38_Deep Learning/practice/data/'\n",
    "fileName_list= ['X_train','Y_train','X_test','Y_test']\n",
    "fileExtension='plk'\n",
    "X_train_orig= compressedFileLoad(pathName,fileName_list[0],fileExtension)\n",
    "y_train_orig= compressedFileLoad(pathName,fileName_list[1],fileExtension)\n",
    "X_test_orig= compressedFileLoad(pathName,fileName_list[2],fileExtension)\n",
    "y_test_orig= compressedFileLoad(pathName,fileName_list[3],fileExtension)"
   ]
  },
  {
   "cell_type": "markdown",
   "metadata": {
    "colab_type": "text",
    "id": "03RC1OU64ej7"
   },
   "source": [
    "<br>\n",
    "If everything has been properly loaded both X_train and Y_train lists should have equal length, and the same should happen for the pair X_test and Y_test."
   ]
  },
  {
   "cell_type": "code",
   "execution_count": 60,
   "metadata": {
    "colab": {
     "base_uri": "https://localhost:8080/",
     "height": 90
    },
    "colab_type": "code",
    "id": "M4XJ__gR4eaa",
    "outputId": "a2e6b06c-1e54-4361-8f65-4c6bb5fea7fa"
   },
   "outputs": [
    {
     "name": "stdout",
     "output_type": "stream",
     "text": [
      "X_train size 20000\n",
      "y_train size 20000\n",
      "X_test size 5000\n",
      "y_test size 5000\n"
     ]
    }
   ],
   "source": [
    "print(\"X_train size\", len(X_train_orig))\n",
    "print(\"y_train size\", len(y_train_orig))\n",
    "print(\"X_test size\", len(X_test_orig))\n",
    "print(\"y_test size\", len(y_test_orig))"
   ]
  },
  {
   "cell_type": "markdown",
   "metadata": {
    "colab_type": "text",
    "id": "5sX_IR7R4c9k"
   },
   "source": [
    "<br>"
   ]
  },
  {
   "cell_type": "markdown",
   "metadata": {
    "colab_type": "text",
    "id": "8TIdf24b8lVw"
   },
   "source": [
    "<br> <li>Comprobación de la carga del número patrones y del orden aleatorio.</li>"
   ]
  },
  {
   "cell_type": "code",
   "execution_count": 61,
   "metadata": {
    "colab": {
     "base_uri": "https://localhost:8080/",
     "height": 35
    },
    "colab_type": "code",
    "id": "C-0pz9Bz8Y5l",
    "outputId": "89e423d8-3955-4562-c7e5-fa8da6fe50b8"
   },
   "outputs": [
    {
     "data": {
      "text/plain": [
       "(True, True, True, True)"
      ]
     },
     "execution_count": 61,
     "metadata": {
      "tags": []
     },
     "output_type": "execute_result"
    }
   ],
   "source": [
    "len(X_train_orig)==20000,len(y_train_orig)==20000,len(X_test_orig)==5000,len(y_test_orig)==5000"
   ]
  },
  {
   "cell_type": "code",
   "execution_count": 62,
   "metadata": {
    "colab": {
     "base_uri": "https://localhost:8080/",
     "height": 35
    },
    "colab_type": "code",
    "id": "5p1jpLko8Yz0",
    "outputId": "00b29b05-9604-4bbf-d28b-8b7a9052304e"
   },
   "outputs": [
    {
     "data": {
      "text/plain": [
       "[0, 0, 0, 0, 1, 1, 0, 1, 1, 1, 1, 1, 0, 1, 0, 1, 0, 1, 1, 0]"
      ]
     },
     "execution_count": 62,
     "metadata": {
      "tags": []
     },
     "output_type": "execute_result"
    }
   ],
   "source": [
    "y_train_orig[0:20]"
   ]
  },
  {
   "cell_type": "code",
   "execution_count": 63,
   "metadata": {
    "colab": {
     "base_uri": "https://localhost:8080/",
     "height": 35
    },
    "colab_type": "code",
    "id": "IjrGQe0k8YRA",
    "outputId": "9b9bac09-10c2-4d84-f0d0-9bc269ecfb6e"
   },
   "outputs": [
    {
     "data": {
      "text/plain": [
       "[1, 0, 1, 1, 1, 0, 0, 1, 0, 1, 1, 1, 0, 1, 0, 0, 1, 0, 0, 0]"
      ]
     },
     "execution_count": 63,
     "metadata": {
      "tags": []
     },
     "output_type": "execute_result"
    }
   ],
   "source": [
    "y_test_orig[0:20]"
   ]
  },
  {
   "cell_type": "markdown",
   "metadata": {
    "colab_type": "text",
    "id": "uB_zO91REaWO"
   },
   "source": [
    "* Formatting the data as tensors.<br>\n",
    "Se transforma el data set de la imágenes de array 64x64x3 en un array para trabajar con tensores cuyo formato es:\n",
    "> 1.   Image index (e.g. 3th image in the dataset)\n",
    "> 2.   Row index\n",
    "> 3.   Column index\n",
    "> 4.   Channel index (e.g. colour channel in colored images)"
   ]
  },
  {
   "cell_type": "code",
   "execution_count": 0,
   "metadata": {
    "colab": {},
    "colab_type": "code",
    "id": "gm_SCRnnCOzm"
   },
   "outputs": [],
   "source": [
    "X_train = X_train_orig.astype('float32')\n",
    "X_test = X_test_orig.astype('float32')\n",
    "Y_train = np_utils.to_categorical(y_train_orig, 2) # We have 10 classes to codify\n",
    "Y_test = np_utils.to_categorical(y_test_orig, 2)"
   ]
  },
  {
   "cell_type": "code",
   "execution_count": 0,
   "metadata": {
    "colab": {},
    "colab_type": "code",
    "id": "vlZ80IiJCuEv"
   },
   "outputs": [],
   "source": [
    "trainImageIndex= len(X_train)\n",
    "testImageIndex= len(X_test)\n",
    "rowIndex= X_train[0].shape[0]\n",
    "columnIndex= X_train[0].shape[1]\n",
    "channelIndex= X_train[0].shape[2]\n",
    "\n",
    "traintensor = X_train.reshape(trainImageIndex, rowIndex, columnIndex, channelIndex)\n",
    "testtensor = X_test.reshape(testImageIndex, rowIndex, columnIndex, channelIndex)"
   ]
  },
  {
   "cell_type": "markdown",
   "metadata": {
    "colab_type": "text",
    "id": "dNOel655B359"
   },
   "source": [
    "# Basic deep model"
   ]
  },
  {
   "cell_type": "markdown",
   "metadata": {
    "colab_type": "text",
    "id": "R_HuzJBKPBNC"
   },
   "source": [
    "## Model 1"
   ]
  },
  {
   "cell_type": "markdown",
   "metadata": {
    "colab_type": "text",
    "id": "9oOuDf4QC0p2"
   },
   "source": [
    "<br><li>Diseño de la arquitectura del modelo</li>"
   ]
  },
  {
   "cell_type": "markdown",
   "metadata": {
    "colab_type": "text",
    "id": "H-8D8u405d2W"
   },
   "source": [
    "El modelo consitirá en un modelo secuencial (la ejecución se realiza capa tras capa sin posibilidad de saltos ni de ejecución simultánea) con las siguientes capas:\n",
    "<li> Capa input.</li>\n",
    "\n",
    "> Las imagenes reducidas a 64x64 x3 channels (RGB). Se introduce en la primera capa de convolución en el parámetro input_shape.\n",
    "\n",
    "\n",
    "<li> Capa convolución.</li>\n",
    "\n",
    "> Transforma la imagén según el kernel elegido. Cada kernel se ejecuta en todos los channels a la vez dando como resultado una imagen plana, es decir, con un único channel, por tanto, el output de la convolución serán una imagen filtrada con tantos channels como kernel ejecutados sobre ella.<br>\n",
    "El objetivo del kernel es reconocer una parte de la imagen como puedan ser las líneas rectas verticales, diagonales, caras, etc.\n",
    "\n",
    "> padding: se opta por valid que reduce el tamaño de la foto en función de los píxeles que son NA en el kernel. En este caso, como el kernel es de 3x3 se reduce en 2 píxeles por capa de convolución.\n",
    "\n",
    "<li>Activación.</li>\n",
    "\n",
    "> Realiza la transformación no-lineal del modelo. Se escoge ReLu para evitar posibles problemas de valores cercanos a cero de la derivada primera en el back-propagation, que no permitiría mejorar el modelo en dicha pasada.\n",
    "\n",
    "<li> Capa pooling.</li>\n",
    "\n",
    "> Reduce el tamaño el tamaño de la imagen en función de la región establecida, obteniendo el valor principal de la estadística seleccionada de dicha región. Normalmente, suele ser el valor máximo como sea escogido en esta ocasión.\n",
    "\n",
    "<li> Técnica de <i>dropout</i>.</li>\n",
    "\n",
    "> Técnica que reduce el overfitting, ocasionado por las numerosas capas que generan pesos nuevos, anulando aleatoriamente un número preestablecido de neuronas, en esta ocasión 25%. Esta técnica obliga al modelo a adaptarse, a aprender de distintas situaciones. Es decir, es una manera de generalizar el modelo y no permitirle que se aprenda el training set ya que al no contar con las mismas neuronas en cada época y tener que seguir clasificando bien la neuronas no se especializan tanto no pudiendo aprenderse el training set.\n",
    "\n",
    "<li>Capa flatten.</li>\n",
    "\n",
    "> Que combina los distintos channels en uno solo para poder trabajar con capas densas propias de las redes neuronales.\n",
    "\n",
    "<li>Capa densa.</li>\n",
    "\n",
    "> Una capa clásica de las redes neuronales. En este caso es la capa output.<br>\n",
    "\n",
    "<li>Activación.</li>\n",
    "\n",
    "> Al igual que se ha mencionado antes, realiza la transformación no-lineal del modelo.<br>\n",
    "\n",
    "Para la **capa output** y su activación, habría dos posibilidades:\n",
    "\n",
    "1.   Capa densa con 2 neuronas + activación *softMax* para normalizar a las dos posibles clases.\n",
    "2.   Capa densa con 1 neurona + activación *sigmoide* que define una clase binaria.\n",
    "\n",
    "\n",
    "\n"
   ]
  },
  {
   "cell_type": "markdown",
   "metadata": {
    "colab_type": "text",
    "id": "Ksbl7bg1GNSU"
   },
   "source": [
    "<br>\n",
    "\n",
    "> 1.   Opción: Capa densa con 2 neuronas + activación softMax\n",
    "\n"
   ]
  },
  {
   "cell_type": "code",
   "execution_count": 0,
   "metadata": {
    "colab": {},
    "colab_type": "code",
    "id": "fQgonXItGNSN"
   },
   "outputs": [],
   "source": [
    "img_rows = X_train[0].shape[0]\n",
    "img_cols = X_train[0].shape[1]\n",
    "img_channels= X_train[0].shape[2]\n",
    "kernel_size = 3 # Size of the kernel for the convolution layers\n",
    "pool_size = 2 # Size of the pooling region for the pooling layers\n",
    "\n",
    "model1 = Sequential()\n",
    "\n",
    "model1.add(Convolution2D(32, # Number convolution channels to generate\n",
    "                        (kernel_size, kernel_size), # Size of convolution kernels\n",
    "                        padding='valid', # Strategy to deal with borders\n",
    "                        input_shape=(img_rows, img_cols, img_channels))) # Size = image rows x image columns x channels\n",
    "model1.add(Activation('relu'))\n",
    "model1.add(MaxPooling2D(pool_size=(pool_size, pool_size)))\n",
    "model1.add(Dropout(0.25))\n",
    "model1.add(Flatten())\n",
    "model1.add(Dense(2))\n",
    "model1.add(Activation('softmax'))"
   ]
  },
  {
   "cell_type": "markdown",
   "metadata": {
    "colab_type": "text",
    "id": "eDtd1merGNSK"
   },
   "source": [
    "<br><li>Compilación y entrenamiento del modelo</li>"
   ]
  },
  {
   "cell_type": "code",
   "execution_count": 67,
   "metadata": {
    "colab": {
     "base_uri": "https://localhost:8080/",
     "height": 745
    },
    "colab_type": "code",
    "id": "R3ZoobWgGNR5",
    "outputId": "d719b11b-4144-42f0-e251-ea10b5638bb3"
   },
   "outputs": [
    {
     "name": "stdout",
     "output_type": "stream",
     "text": [
      "Epoch 1/20\n",
      "20000/20000 [==============================] - 2s 122us/step - loss: 0.6160 - acc: 0.6597\n",
      "Epoch 2/20\n",
      "20000/20000 [==============================] - 2s 109us/step - loss: 0.5342 - acc: 0.7328\n",
      "Epoch 3/20\n",
      "20000/20000 [==============================] - 2s 109us/step - loss: 0.4928 - acc: 0.7637\n",
      "Epoch 4/20\n",
      "20000/20000 [==============================] - 2s 108us/step - loss: 0.4581 - acc: 0.7881\n",
      "Epoch 5/20\n",
      "20000/20000 [==============================] - 2s 109us/step - loss: 0.4466 - acc: 0.7957\n",
      "Epoch 6/20\n",
      "20000/20000 [==============================] - 2s 110us/step - loss: 0.4277 - acc: 0.8035\n",
      "Epoch 7/20\n",
      "20000/20000 [==============================] - 2s 111us/step - loss: 0.4075 - acc: 0.8203\n",
      "Epoch 8/20\n",
      "20000/20000 [==============================] - 2s 108us/step - loss: 0.3924 - acc: 0.8238\n",
      "Epoch 9/20\n",
      "20000/20000 [==============================] - 2s 107us/step - loss: 0.3833 - acc: 0.8293\n",
      "Epoch 10/20\n",
      "20000/20000 [==============================] - 2s 109us/step - loss: 0.3711 - acc: 0.8367\n",
      "Epoch 11/20\n",
      "20000/20000 [==============================] - 2s 107us/step - loss: 0.3610 - acc: 0.8411\n",
      "Epoch 12/20\n",
      "20000/20000 [==============================] - 2s 109us/step - loss: 0.3584 - acc: 0.8429\n",
      "Epoch 13/20\n",
      "20000/20000 [==============================] - 2s 110us/step - loss: 0.3395 - acc: 0.8526\n",
      "Epoch 14/20\n",
      "20000/20000 [==============================] - 2s 111us/step - loss: 0.3359 - acc: 0.8550\n",
      "Epoch 15/20\n",
      "20000/20000 [==============================] - 2s 113us/step - loss: 0.3295 - acc: 0.8583\n",
      "Epoch 16/20\n",
      "20000/20000 [==============================] - 2s 115us/step - loss: 0.3184 - acc: 0.8638\n",
      "Epoch 17/20\n",
      "20000/20000 [==============================] - 2s 116us/step - loss: 0.3112 - acc: 0.8668\n",
      "Epoch 18/20\n",
      "20000/20000 [==============================] - 2s 114us/step - loss: 0.3106 - acc: 0.8667\n",
      "Epoch 19/20\n",
      "20000/20000 [==============================] - 2s 112us/step - loss: 0.3014 - acc: 0.8720\n",
      "Epoch 20/20\n",
      "20000/20000 [==============================] - 2s 113us/step - loss: 0.2970 - acc: 0.8736\n"
     ]
    }
   ],
   "source": [
    "model1.compile(loss='binary_crossentropy', optimizer='adam', metrics=['accuracy'])\n",
    "\n",
    "history_loss = LossHistory()\n",
    "history= History()\n",
    "model1_fit= model1.fit(\n",
    "    traintensor, # Training data\n",
    "    Y_train, # Labels of training data\n",
    "    batch_size=128, # Batch size for the optimizer algorithm\n",
    "    epochs=20, # Number of epochs to run the optimizer algorithm\n",
    "    verbose=1, # Level of verbosity of the log messages\n",
    "    callbacks=[history] # to record the epochs logs\n",
    ")"
   ]
  },
  {
   "cell_type": "code",
   "execution_count": 68,
   "metadata": {
    "colab": {
     "base_uri": "https://localhost:8080/",
     "height": 35
    },
    "colab_type": "code",
    "id": "03PbRXq2FtGR",
    "outputId": "412e56ae-53ec-4931-f922-d95354a8d2fb"
   },
   "outputs": [
    {
     "data": {
      "text/plain": [
       "dict_keys(['loss', 'acc'])"
      ]
     },
     "execution_count": 68,
     "metadata": {
      "tags": []
     },
     "output_type": "execute_result"
    }
   ],
   "source": [
    "model1_fit.history.keys()"
   ]
  },
  {
   "cell_type": "markdown",
   "metadata": {
    "colab_type": "text",
    "id": "VfGVP-udSFDQ"
   },
   "source": [
    "<br><li>Se guarda el modelo</li>"
   ]
  },
  {
   "cell_type": "code",
   "execution_count": 0,
   "metadata": {
    "colab": {},
    "colab_type": "code",
    "id": "oHdRejaVMhmM"
   },
   "outputs": [],
   "source": [
    "pathName='/content/drive/My Drive/MDS/38_Deep Learning/practice/data/'\n",
    "fileName='model1_fit'\n",
    "fileExtension='pkz'\n",
    "variable= model1_fit\n",
    "compressedFileSave(pathName,fileName,fileExtension,variable)"
   ]
  },
  {
   "cell_type": "markdown",
   "metadata": {
    "colab_type": "text",
    "id": "WeXjw7o9GNR0"
   },
   "source": [
    "<br><li>Cálculo del performance y predicciones del modelo</li>"
   ]
  },
  {
   "cell_type": "code",
   "execution_count": 70,
   "metadata": {
    "colab": {
     "base_uri": "https://localhost:8080/",
     "height": 90
    },
    "colab_type": "code",
    "id": "Vb46ZxE3GNRF",
    "outputId": "da2cf25b-2e3a-425b-cee8-ee858564ee30"
   },
   "outputs": [
    {
     "name": "stdout",
     "output_type": "stream",
     "text": [
      "20000/20000 [==============================] - 2s 103us/step\n",
      "5000/5000 [==============================] - 1s 100us/step\n",
      "Test loss 0.5230520223140717\n",
      "Test accuracy 0.7734\n"
     ]
    }
   ],
   "source": [
    "train_accuracy = model1.evaluate(traintensor, Y_train)[1]\n",
    "score = model1.evaluate(testtensor, Y_test)\n",
    "try:\n",
    "  df_score=df_score.reindex(index = ['Test loss','Test accuracy','Train accuracy'])\n",
    "  df_score[\"model1\"]= [score[0],score[1],train_accuracy]\n",
    "except:\n",
    "  df_score= pd.DataFrame.from_dict({\"model1\":\n",
    "                                   {\n",
    "                                       \"Test loss\":score[0],\n",
    "                                       \"Test accuracy\": score[1],\n",
    "                                       \"Train accuracy\": train_accuracy\n",
    "                                   }\n",
    "                                   })\n",
    "\n",
    "Y_pred_model1 =  model1.predict_classes(testtensor)   \n",
    "print(\"Test loss\", score[0])\n",
    "print(\"Test accuracy\", score[1])"
   ]
  },
  {
   "cell_type": "markdown",
   "metadata": {
    "colab_type": "text",
    "id": "hn-0oIuYJ7qt"
   },
   "source": [
    "<br><li>Se guarda el history del training</li>"
   ]
  },
  {
   "cell_type": "code",
   "execution_count": 0,
   "metadata": {
    "colab": {},
    "colab_type": "code",
    "id": "6HlKZm9CJ6nX"
   },
   "outputs": [],
   "source": [
    "df_epochs_model1= pd.DataFrame.from_dict({\n",
    "    'epoch': range(len(model1_fit.history['acc'])),\n",
    "    'acc': model1_fit.history['acc'],\n",
    "    'loss': model1_fit.history['loss']})"
   ]
  },
  {
   "cell_type": "markdown",
   "metadata": {
    "colab_type": "text",
    "id": "PGG4cTmwPHR_"
   },
   "source": [
    "## Model 2"
   ]
  },
  {
   "cell_type": "markdown",
   "metadata": {
    "colab_type": "text",
    "id": "s0oDioKJGTgL"
   },
   "source": [
    "<br>\n",
    "\n",
    "> 2.   Opción: Se realizan los siguientes cambios:<br>\n",
    ">> Capa densa (500)<br>\n",
    ">> Capa drpout para regularizar al meter 500 neuronas en la capa densa<br>\n",
    ">> Capa output densa (2)<br>\n",
    ">> Activación *sigmoide*<br>"
   ]
  },
  {
   "cell_type": "markdown",
   "metadata": {
    "colab_type": "text",
    "id": "K671_ZrmGbe1"
   },
   "source": [
    "<br><li>Diseño de la arquitectura del modelo</li>"
   ]
  },
  {
   "cell_type": "code",
   "execution_count": 0,
   "metadata": {
    "colab": {},
    "colab_type": "code",
    "id": "T11QY987GbVv"
   },
   "outputs": [],
   "source": [
    "img_rows = X_train[0].shape[0]\n",
    "img_cols = X_train[0].shape[1]\n",
    "img_channels= X_train[0].shape[2]\n",
    "kernel_size = 3 # Size of the kernel for the convolution layers\n",
    "pool_size = 2 # Size of the pooling region for the pooling layers\n",
    "\n",
    "model2 = Sequential()\n",
    "\n",
    "model2.add(Convolution2D(32, # Number convolution channels to generate\n",
    "                        (kernel_size, kernel_size), # Size of convolution kernels\n",
    "                        padding='valid', # Strategy to deal with borders\n",
    "                        input_shape=(img_rows, img_cols, img_channels))) # Size = image rows x image columns x channels\n",
    "model2.add(Activation('relu'))\n",
    "model2.add(MaxPooling2D(pool_size=(pool_size, pool_size)))\n",
    "model2.add(Dropout(0.25))\n",
    "model2.add(Flatten())\n",
    "model2.add(Dense(500))\n",
    "model2.add(Activation('relu'))\n",
    "model2.add(Dropout(0.5))\n",
    "model2.add(Dense(2))\n",
    "model2.add(Activation('sigmoid'))"
   ]
  },
  {
   "cell_type": "markdown",
   "metadata": {
    "colab_type": "text",
    "id": "Ev4HA7GDGbNC"
   },
   "source": [
    "<br><li>Compilación y entrenamiento del modelo</li>"
   ]
  },
  {
   "cell_type": "code",
   "execution_count": 79,
   "metadata": {
    "colab": {
     "base_uri": "https://localhost:8080/",
     "height": 745
    },
    "colab_type": "code",
    "id": "mgZ9ZLPUGbEW",
    "outputId": "216c3a1d-93cb-4275-ebab-5f02bc0c1482"
   },
   "outputs": [
    {
     "name": "stdout",
     "output_type": "stream",
     "text": [
      "Epoch 1/20\n",
      "20000/20000 [==============================] - 5s 244us/step - loss: 0.0897 - acc: 0.9681\n",
      "Epoch 2/20\n",
      "20000/20000 [==============================] - 4s 203us/step - loss: 0.0786 - acc: 0.9709\n",
      "Epoch 3/20\n",
      "20000/20000 [==============================] - 4s 200us/step - loss: 0.0814 - acc: 0.9709\n",
      "Epoch 4/20\n",
      "20000/20000 [==============================] - 4s 199us/step - loss: 0.0797 - acc: 0.9719\n",
      "Epoch 5/20\n",
      "20000/20000 [==============================] - 4s 199us/step - loss: 0.0721 - acc: 0.9743\n",
      "Epoch 6/20\n",
      "20000/20000 [==============================] - 4s 201us/step - loss: 0.0691 - acc: 0.9761\n",
      "Epoch 7/20\n",
      "20000/20000 [==============================] - 4s 201us/step - loss: 0.0718 - acc: 0.9739\n",
      "Epoch 8/20\n",
      "20000/20000 [==============================] - 4s 200us/step - loss: 0.0634 - acc: 0.9767\n",
      "Epoch 9/20\n",
      "20000/20000 [==============================] - 4s 197us/step - loss: 0.0607 - acc: 0.9791\n",
      "Epoch 10/20\n",
      "20000/20000 [==============================] - 4s 200us/step - loss: 0.0611 - acc: 0.9789\n",
      "Epoch 11/20\n",
      "20000/20000 [==============================] - 4s 201us/step - loss: 0.0589 - acc: 0.9802\n",
      "Epoch 12/20\n",
      "20000/20000 [==============================] - 4s 204us/step - loss: 0.0586 - acc: 0.9790\n",
      "Epoch 13/20\n",
      "20000/20000 [==============================] - 4s 200us/step - loss: 0.0554 - acc: 0.9797\n",
      "Epoch 14/20\n",
      "20000/20000 [==============================] - 4s 200us/step - loss: 0.0554 - acc: 0.9805\n",
      "Epoch 15/20\n",
      "20000/20000 [==============================] - 4s 201us/step - loss: 0.0525 - acc: 0.9812\n",
      "Epoch 16/20\n",
      "20000/20000 [==============================] - 4s 200us/step - loss: 0.0522 - acc: 0.9812\n",
      "Epoch 17/20\n",
      "20000/20000 [==============================] - 4s 200us/step - loss: 0.0544 - acc: 0.9808\n",
      "Epoch 18/20\n",
      "20000/20000 [==============================] - 4s 207us/step - loss: 0.0551 - acc: 0.9799\n",
      "Epoch 19/20\n",
      "20000/20000 [==============================] - 4s 204us/step - loss: 0.0514 - acc: 0.9817\n",
      "Epoch 20/20\n",
      "20000/20000 [==============================] - 4s 205us/step - loss: 0.0467 - acc: 0.9833\n"
     ]
    }
   ],
   "source": [
    "model2.compile(loss='binary_crossentropy', optimizer='adam', metrics=['accuracy'])\n",
    "model2_fit= model2.fit(\n",
    "    traintensor, # Training data\n",
    "    Y_train, # Labels of training data\n",
    "    batch_size=128, # Batch size for the optimizer algorithm\n",
    "    epochs=20, # Number of epochs to run the optimizer algorithm\n",
    "    verbose=1, # Level of verbosity of the log messages\n",
    "    callbacks=[history] # to record the epochs logs\n",
    "    )"
   ]
  },
  {
   "cell_type": "markdown",
   "metadata": {
    "colab_type": "text",
    "id": "NHk5D1lbS2XN"
   },
   "source": [
    "<br><li>Se guarda el modelo</li>"
   ]
  },
  {
   "cell_type": "code",
   "execution_count": 0,
   "metadata": {
    "colab": {},
    "colab_type": "code",
    "id": "y-B_By71S2lm"
   },
   "outputs": [],
   "source": [
    "pathName='/content/drive/My Drive/MDS/38_Deep Learning/practice/data/'\n",
    "fileName='model2_fit'\n",
    "fileExtension='pkz'\n",
    "variable=model2\n",
    "compressedFileSave(pathName,fileName,fileExtension,variable)"
   ]
  },
  {
   "cell_type": "markdown",
   "metadata": {
    "colab_type": "text",
    "id": "P0zxuwlBGa60"
   },
   "source": [
    "<br><li>Cálculo del performance del modelo</li>"
   ]
  },
  {
   "cell_type": "code",
   "execution_count": 81,
   "metadata": {
    "colab": {
     "base_uri": "https://localhost:8080/",
     "height": 90
    },
    "colab_type": "code",
    "id": "b9QAMdOoGatu",
    "outputId": "a95fe460-3e5d-4070-9998-235819e60ed6"
   },
   "outputs": [
    {
     "name": "stdout",
     "output_type": "stream",
     "text": [
      "20000/20000 [==============================] - 2s 103us/step\n",
      "5000/5000 [==============================] - 0s 95us/step\n",
      "Test loss 0.9754269641399383\n",
      "Test accuracy 0.7794\n"
     ]
    }
   ],
   "source": [
    "train_accuracy = model2.evaluate(traintensor, Y_train)[1]\n",
    "score = model2.evaluate(testtensor, Y_test)\n",
    "try:\n",
    "  df_score=df_score.reindex(index = ['Test loss','Test accuracy','Train accuracy'])\n",
    "  df_score[\"model2\"]= [score[0],score[1],train_accuracy]\n",
    "except:\n",
    "  df_score= pd.DataFrame.from_dict({\"model2\":\n",
    "                                   {\n",
    "                                       \"Test loss\":score[0],\n",
    "                                       \"Test accuracy\": score[1],\n",
    "                                       \"Train accuracy\": train_accuracy\n",
    "                                   }\n",
    "                                   })\n",
    "\n",
    "Y_pred_model2 =  model2.predict_classes(testtensor)   \n",
    "print(\"Test loss\", score[0])\n",
    "print(\"Test accuracy\", score[1])"
   ]
  },
  {
   "cell_type": "markdown",
   "metadata": {
    "colab_type": "text",
    "id": "k_Jov1UOKLiC"
   },
   "source": [
    "<br><li>Se guarda el history del training</li>"
   ]
  },
  {
   "cell_type": "code",
   "execution_count": 0,
   "metadata": {
    "colab": {},
    "colab_type": "code",
    "id": "GpjzHVF1KLOZ"
   },
   "outputs": [],
   "source": [
    "df_epochs_model2= pd.DataFrame.from_dict({\n",
    "    'epoch': range(len(model2_fit.history['acc'])),\n",
    "    'acc': model2_fit.history['acc'],\n",
    "    'loss': model2_fit.history['loss']})"
   ]
  },
  {
   "cell_type": "markdown",
   "metadata": {
    "colab_type": "text",
    "id": "VxYbriHSPLbm"
   },
   "source": [
    "## Model 3"
   ]
  },
  {
   "cell_type": "markdown",
   "metadata": {
    "colab_type": "text",
    "id": "hhdZJCFMX4Or"
   },
   "source": [
    "<br>\n",
    "\n",
    "> 3.   Opción: model2 cambiando el método del pooling a average."
   ]
  },
  {
   "cell_type": "markdown",
   "metadata": {
    "colab_type": "text",
    "id": "eTQzVJRzYLq6"
   },
   "source": []
  },
  {
   "cell_type": "markdown",
   "metadata": {
    "colab_type": "text",
    "id": "g5na2j2ZYTFb"
   },
   "source": [
    "<br><li>Diseño de la arquitectura del modelo</li>"
   ]
  },
  {
   "cell_type": "code",
   "execution_count": 0,
   "metadata": {
    "colab": {},
    "colab_type": "code",
    "id": "lVh0J-Z6kUOI"
   },
   "outputs": [],
   "source": [
    "img_rows = X_train[0].shape[0]\n",
    "img_cols = X_train[0].shape[1]\n",
    "img_channels= X_train[0].shape[2]\n",
    "kernel_size = 3 # Size of the kernel for the convolution layers\n",
    "pool_size = 2 # Size of the pooling region for the pooling layers\n",
    "\n",
    "model3 = Sequential()\n",
    "\n",
    "model3.add(Convolution2D(32, # Number convolution channels to generate\n",
    "                        (kernel_size, kernel_size), # Size of convolution kernels\n",
    "                        padding='valid', # Strategy to deal with borders\n",
    "                        input_shape=(img_rows, img_cols, img_channels))) # Size = image rows x image columns x channels\n",
    "model3.add(Activation('relu'))\n",
    "model3.add(AveragePooling2D(pool_size=(pool_size, pool_size)))\n",
    "model3.add(Dropout(0.25))\n",
    "model3.add(Flatten())\n",
    "model3.add(Dense(500))\n",
    "model3.add(Activation('relu'))\n",
    "model3.add(Dropout(0.5))\n",
    "model3.add(Dense(2))\n",
    "model3.add(Activation('sigmoid'))"
   ]
  },
  {
   "cell_type": "markdown",
   "metadata": {
    "colab_type": "text",
    "id": "FeFvsZ1cYVZt"
   },
   "source": [
    "<br><li>Compilación y entrenamiento del modelo</li>"
   ]
  },
  {
   "cell_type": "code",
   "execution_count": 84,
   "metadata": {
    "colab": {
     "base_uri": "https://localhost:8080/",
     "height": 745
    },
    "colab_type": "code",
    "id": "2IZHx6oVYRQN",
    "outputId": "8a7baa13-7493-48dc-bc1b-19ae9f1b2db1"
   },
   "outputs": [
    {
     "name": "stdout",
     "output_type": "stream",
     "text": [
      "Epoch 1/20\n",
      "20000/20000 [==============================] - 5s 241us/step - loss: 0.6420 - acc: 0.6382\n",
      "Epoch 2/20\n",
      "20000/20000 [==============================] - 4s 203us/step - loss: 0.5630 - acc: 0.7111\n",
      "Epoch 3/20\n",
      "20000/20000 [==============================] - 4s 200us/step - loss: 0.5157 - acc: 0.7443\n",
      "Epoch 4/20\n",
      "20000/20000 [==============================] - 4s 198us/step - loss: 0.4772 - acc: 0.7709\n",
      "Epoch 5/20\n",
      "20000/20000 [==============================] - 4s 200us/step - loss: 0.4439 - acc: 0.7897\n",
      "Epoch 6/20\n",
      "20000/20000 [==============================] - 4s 200us/step - loss: 0.4093 - acc: 0.8168\n",
      "Epoch 7/20\n",
      "20000/20000 [==============================] - 4s 202us/step - loss: 0.3766 - acc: 0.8344\n",
      "Epoch 8/20\n",
      "20000/20000 [==============================] - 4s 200us/step - loss: 0.3523 - acc: 0.8447\n",
      "Epoch 9/20\n",
      "20000/20000 [==============================] - 4s 199us/step - loss: 0.3283 - acc: 0.8591\n",
      "Epoch 10/20\n",
      "20000/20000 [==============================] - 4s 199us/step - loss: 0.3019 - acc: 0.8745\n",
      "Epoch 11/20\n",
      "20000/20000 [==============================] - 4s 202us/step - loss: 0.2694 - acc: 0.8882\n",
      "Epoch 12/20\n",
      "20000/20000 [==============================] - 4s 204us/step - loss: 0.2552 - acc: 0.8931\n",
      "Epoch 13/20\n",
      "20000/20000 [==============================] - 4s 204us/step - loss: 0.2285 - acc: 0.9073\n",
      "Epoch 14/20\n",
      "20000/20000 [==============================] - 4s 199us/step - loss: 0.2096 - acc: 0.9165\n",
      "Epoch 15/20\n",
      "20000/20000 [==============================] - 4s 201us/step - loss: 0.1960 - acc: 0.9227\n",
      "Epoch 16/20\n",
      "20000/20000 [==============================] - 4s 198us/step - loss: 0.1811 - acc: 0.9283\n",
      "Epoch 17/20\n",
      "20000/20000 [==============================] - 4s 199us/step - loss: 0.1686 - acc: 0.9354\n",
      "Epoch 18/20\n",
      "20000/20000 [==============================] - 4s 199us/step - loss: 0.1490 - acc: 0.9444\n",
      "Epoch 19/20\n",
      "20000/20000 [==============================] - 4s 197us/step - loss: 0.1429 - acc: 0.9458\n",
      "Epoch 20/20\n",
      "20000/20000 [==============================] - 4s 198us/step - loss: 0.1353 - acc: 0.9484\n"
     ]
    }
   ],
   "source": [
    "model3.compile(loss='binary_crossentropy', optimizer='adam', metrics=['accuracy'])\n",
    "model3_fit=model3.fit(\n",
    "    traintensor, # Training data\n",
    "    Y_train, # Labels of training data\n",
    "    batch_size=128, # Batch size for the optimizer algorithm\n",
    "    epochs=20, # Number of epochs to run the optimizer algorithm\n",
    "    verbose=1, # Level of verbosity of the log messages\n",
    "    callbacks=[history] # to record the epochs logs\n",
    "    )"
   ]
  },
  {
   "cell_type": "markdown",
   "metadata": {
    "colab_type": "text",
    "id": "0vEbHUj6TF3j"
   },
   "source": [
    "<br><li>Se guarda el modelo</li>"
   ]
  },
  {
   "cell_type": "code",
   "execution_count": 0,
   "metadata": {
    "colab": {},
    "colab_type": "code",
    "id": "YDT4m-VrTHYH"
   },
   "outputs": [],
   "source": [
    "pathName='/content/drive/My Drive/MDS/38_Deep Learning/practice/data/'\n",
    "fileName='model3_fit'\n",
    "fileExtension='pkz'\n",
    "variable=model3\n",
    "compressedFileSave(pathName,fileName,fileExtension,variable)"
   ]
  },
  {
   "cell_type": "markdown",
   "metadata": {
    "colab_type": "text",
    "id": "24dBi5knYeLb"
   },
   "source": [
    "<br><li>Cálculo del performance del modelo</li>"
   ]
  },
  {
   "cell_type": "code",
   "execution_count": 86,
   "metadata": {
    "colab": {
     "base_uri": "https://localhost:8080/",
     "height": 90
    },
    "colab_type": "code",
    "id": "fRyynkvsYeBs",
    "outputId": "c2036306-1051-41a3-b3b9-d909690f54b4"
   },
   "outputs": [
    {
     "name": "stdout",
     "output_type": "stream",
     "text": [
      "20000/20000 [==============================] - 2s 102us/step\n",
      "5000/5000 [==============================] - 0s 88us/step\n",
      "Test loss 0.6440624290943145\n",
      "Test accuracy 0.7685\n"
     ]
    }
   ],
   "source": [
    "train_accuracy = model3.evaluate(traintensor, Y_train)[1]\n",
    "score = model3.evaluate(testtensor, Y_test)\n",
    "try:\n",
    "  df_score=df_score.reindex(index = ['Test loss','Test accuracy','Train accuracy'])\n",
    "  df_score[\"model3\"]= [score[0],score[1],train_accuracy]\n",
    "except:\n",
    "  df_score= pd.DataFrame.from_dict({\"model3\":\n",
    "                                   {\n",
    "                                       \"Test loss\":score[0],\n",
    "                                       \"Test accuracy\": score[1],\n",
    "                                       \"Train accuracy\": train_accuracy\n",
    "                                   }\n",
    "                                   })\n",
    "\n",
    "Y_pred_model3 =  model3.predict_classes(testtensor)   \n",
    "print(\"Test loss\", score[0])\n",
    "print(\"Test accuracy\", score[1])"
   ]
  },
  {
   "cell_type": "markdown",
   "metadata": {
    "colab_type": "text",
    "id": "wKF_lgDpKfFM"
   },
   "source": [
    "<br><li>Se guarda el history del training</li>"
   ]
  },
  {
   "cell_type": "code",
   "execution_count": 0,
   "metadata": {
    "colab": {},
    "colab_type": "code",
    "id": "UCkaQpuLKewz"
   },
   "outputs": [],
   "source": [
    "df_epochs_model3= pd.DataFrame.from_dict({\n",
    "    'epoch': range(len(model3_fit.history['acc'])),\n",
    "    'acc': model3_fit.history['acc'],\n",
    "    'loss': model3_fit.history['loss']})"
   ]
  },
  {
   "cell_type": "markdown",
   "metadata": {
    "colab_type": "text",
    "id": "aIkbIzW3axGa"
   },
   "source": [
    "# Improving the network"
   ]
  },
  {
   "cell_type": "markdown",
   "metadata": {
    "colab_type": "text",
    "id": "_LttxUJOqH3D"
   },
   "source": [
    "## LeNet"
   ]
  },
  {
   "cell_type": "markdown",
   "metadata": {
    "colab_type": "text",
    "id": "Ii_n6feOVOdq"
   },
   "source": [
    "<br>\n",
    "\n",
    "> 1.   Opción: Sin early Stopping"
   ]
  },
  {
   "cell_type": "markdown",
   "metadata": {
    "colab_type": "text",
    "id": "4zM-CWymptKF"
   },
   "source": [
    "*   Diseño de la arquitectura del modelo :\n",
    "\n",
    "     1. A Convolution layer of 20 channels, kernel size 5 and rectified linear activation\n",
    "     2. A MaxPooling layer of size 2 and stride 2\n",
    "     3. A 25% Dropout\n",
    "     4. A Convolution layer of 50 channels, kernel size 5 and rectified linear activation\n",
    "     5. A MaxPooling layer of size 2 and stride 2\n",
    "     6. A 25% Dropout\n",
    "     7. A Flatten layer\n",
    "     8. A Dense layer with 500 units and rectified linear activation\n",
    "     9. A 50% Dropout\n",
    "     10. An output Dense layer with softmax activation\n"
   ]
  },
  {
   "cell_type": "code",
   "execution_count": 0,
   "metadata": {
    "colab": {},
    "colab_type": "code",
    "id": "LPtZhF6bo1Wm"
   },
   "outputs": [],
   "source": [
    "img_rows = X_train[0].shape[0]\n",
    "img_cols = X_train[0].shape[1]\n",
    "img_channels= X_train[0].shape[2]\n",
    "\n",
    "LeNet = Sequential()\n",
    "\n",
    "LeNet.add(Convolution2D(20, (5, 5),\n",
    "                        padding='valid',\n",
    "                        input_shape=(img_rows, img_cols, img_channels)))\n",
    "LeNet.add(Activation('relu'))\n",
    "LeNet.add(MaxPooling2D(pool_size=(2, 2), strides=(2, 2)))\n",
    "LeNet.add(Dropout(0.25))\n",
    "LeNet.add(Convolution2D(50, (5, 5)))\n",
    "LeNet.add(Activation('relu'))\n",
    "LeNet.add(MaxPooling2D(pool_size=(2, 2), strides=(2, 2)))\n",
    "LeNet.add(Dropout(0.25))\n",
    "LeNet.add(Flatten())\n",
    "LeNet.add(Dense(500))\n",
    "LeNet.add(Activation('relu'))\n",
    "LeNet.add(Dropout(0.5))\n",
    "LeNet.add(Dense(2))\n",
    "LeNet.add(Activation('sigmoid'))"
   ]
  },
  {
   "cell_type": "markdown",
   "metadata": {
    "colab_type": "text",
    "id": "_lTeIMLcpuIl"
   },
   "source": [
    "<br><li>Compilación del modelo</li>"
   ]
  },
  {
   "cell_type": "code",
   "execution_count": 89,
   "metadata": {
    "colab": {
     "base_uri": "https://localhost:8080/",
     "height": 2345
    },
    "colab_type": "code",
    "id": "LCHhiAVMpupC",
    "outputId": "72bd9026-ba96-46c5-f325-4d663a677a5f"
   },
   "outputs": [
    {
     "name": "stdout",
     "output_type": "stream",
     "text": [
      "Epoch 1/64\n",
      "20000/20000 [==============================] - 4s 213us/step - loss: 0.6488 - acc: 0.6111\n",
      "Epoch 2/64\n",
      "20000/20000 [==============================] - 3s 173us/step - loss: 0.5527 - acc: 0.7140\n",
      "Epoch 3/64\n",
      "20000/20000 [==============================] - 3s 167us/step - loss: 0.4988 - acc: 0.7551\n",
      "Epoch 4/64\n",
      "20000/20000 [==============================] - 3s 170us/step - loss: 0.4713 - acc: 0.7772\n",
      "Epoch 5/64\n",
      "20000/20000 [==============================] - 3s 167us/step - loss: 0.4343 - acc: 0.7974\n",
      "Epoch 6/64\n",
      "20000/20000 [==============================] - 3s 166us/step - loss: 0.4061 - acc: 0.8145\n",
      "Epoch 7/64\n",
      "20000/20000 [==============================] - 3s 171us/step - loss: 0.3786 - acc: 0.8293\n",
      "Epoch 8/64\n",
      "20000/20000 [==============================] - 3s 173us/step - loss: 0.3549 - acc: 0.8438\n",
      "Epoch 9/64\n",
      "20000/20000 [==============================] - 3s 171us/step - loss: 0.3241 - acc: 0.8590\n",
      "Epoch 10/64\n",
      "20000/20000 [==============================] - 3s 171us/step - loss: 0.2940 - acc: 0.8752\n",
      "Epoch 11/64\n",
      "20000/20000 [==============================] - 3s 168us/step - loss: 0.2622 - acc: 0.8908\n",
      "Epoch 12/64\n",
      "20000/20000 [==============================] - 3s 167us/step - loss: 0.2317 - acc: 0.9043\n",
      "Epoch 13/64\n",
      "20000/20000 [==============================] - 3s 170us/step - loss: 0.1996 - acc: 0.9211\n",
      "Epoch 14/64\n",
      "20000/20000 [==============================] - 3s 171us/step - loss: 0.1730 - acc: 0.9311\n",
      "Epoch 15/64\n",
      "20000/20000 [==============================] - 3s 172us/step - loss: 0.1577 - acc: 0.9382\n",
      "Epoch 16/64\n",
      "20000/20000 [==============================] - 4s 175us/step - loss: 0.1389 - acc: 0.9481\n",
      "Epoch 17/64\n",
      "20000/20000 [==============================] - 3s 169us/step - loss: 0.1208 - acc: 0.9557\n",
      "Epoch 18/64\n",
      "20000/20000 [==============================] - 3s 167us/step - loss: 0.1070 - acc: 0.9610\n",
      "Epoch 19/64\n",
      "20000/20000 [==============================] - 3s 167us/step - loss: 0.1010 - acc: 0.9634\n",
      "Epoch 20/64\n",
      "20000/20000 [==============================] - 3s 167us/step - loss: 0.0897 - acc: 0.9682\n",
      "Epoch 21/64\n",
      "20000/20000 [==============================] - 3s 169us/step - loss: 0.0729 - acc: 0.9735\n",
      "Epoch 22/64\n",
      "20000/20000 [==============================] - 3s 168us/step - loss: 0.0736 - acc: 0.9733\n",
      "Epoch 23/64\n",
      "20000/20000 [==============================] - 3s 164us/step - loss: 0.0716 - acc: 0.9740\n",
      "Epoch 24/64\n",
      "20000/20000 [==============================] - 3s 166us/step - loss: 0.0694 - acc: 0.9754\n",
      "Epoch 25/64\n",
      "20000/20000 [==============================] - 3s 166us/step - loss: 0.0636 - acc: 0.9772\n",
      "Epoch 26/64\n",
      "20000/20000 [==============================] - 3s 166us/step - loss: 0.0592 - acc: 0.9791\n",
      "Epoch 27/64\n",
      "20000/20000 [==============================] - 3s 169us/step - loss: 0.0544 - acc: 0.9816\n",
      "Epoch 28/64\n",
      "20000/20000 [==============================] - 3s 166us/step - loss: 0.0582 - acc: 0.9792\n",
      "Epoch 29/64\n",
      "20000/20000 [==============================] - 3s 167us/step - loss: 0.0561 - acc: 0.9803\n",
      "Epoch 30/64\n",
      "20000/20000 [==============================] - 3s 167us/step - loss: 0.0485 - acc: 0.9836\n",
      "Epoch 31/64\n",
      "20000/20000 [==============================] - 3s 171us/step - loss: 0.0502 - acc: 0.9831\n",
      "Epoch 32/64\n",
      "20000/20000 [==============================] - 3s 172us/step - loss: 0.0451 - acc: 0.9852\n",
      "Epoch 33/64\n",
      "20000/20000 [==============================] - 3s 170us/step - loss: 0.0497 - acc: 0.9828\n",
      "Epoch 34/64\n",
      "20000/20000 [==============================] - 3s 166us/step - loss: 0.0473 - acc: 0.9847\n",
      "Epoch 35/64\n",
      "20000/20000 [==============================] - 3s 168us/step - loss: 0.0412 - acc: 0.9868\n",
      "Epoch 36/64\n",
      "20000/20000 [==============================] - 3s 167us/step - loss: 0.0460 - acc: 0.9838\n",
      "Epoch 37/64\n",
      "20000/20000 [==============================] - 3s 167us/step - loss: 0.0364 - acc: 0.9864\n",
      "Epoch 38/64\n",
      "20000/20000 [==============================] - 3s 169us/step - loss: 0.0407 - acc: 0.9860\n",
      "Epoch 39/64\n",
      "20000/20000 [==============================] - 3s 168us/step - loss: 0.0374 - acc: 0.9877\n",
      "Epoch 40/64\n",
      "20000/20000 [==============================] - 3s 169us/step - loss: 0.0401 - acc: 0.9862\n",
      "Epoch 41/64\n",
      "20000/20000 [==============================] - 3s 166us/step - loss: 0.0412 - acc: 0.9855\n",
      "Epoch 42/64\n",
      "20000/20000 [==============================] - 3s 167us/step - loss: 0.0433 - acc: 0.9849\n",
      "Epoch 43/64\n",
      "20000/20000 [==============================] - 3s 168us/step - loss: 0.0361 - acc: 0.9881\n",
      "Epoch 44/64\n",
      "20000/20000 [==============================] - 3s 167us/step - loss: 0.0382 - acc: 0.9880\n",
      "Epoch 45/64\n",
      "20000/20000 [==============================] - 3s 167us/step - loss: 0.0351 - acc: 0.9883\n",
      "Epoch 46/64\n",
      "20000/20000 [==============================] - 3s 170us/step - loss: 0.0391 - acc: 0.9869\n",
      "Epoch 47/64\n",
      "20000/20000 [==============================] - 3s 167us/step - loss: 0.0346 - acc: 0.9879\n",
      "Epoch 48/64\n",
      "20000/20000 [==============================] - 3s 168us/step - loss: 0.0334 - acc: 0.9895\n",
      "Epoch 49/64\n",
      "20000/20000 [==============================] - 4s 177us/step - loss: 0.0302 - acc: 0.9896\n",
      "Epoch 50/64\n",
      "20000/20000 [==============================] - 3s 173us/step - loss: 0.0285 - acc: 0.9904\n",
      "Epoch 51/64\n",
      "20000/20000 [==============================] - 3s 169us/step - loss: 0.0396 - acc: 0.9863\n",
      "Epoch 52/64\n",
      "20000/20000 [==============================] - 3s 164us/step - loss: 0.0411 - acc: 0.9862\n",
      "Epoch 53/64\n",
      "20000/20000 [==============================] - 3s 166us/step - loss: 0.0330 - acc: 0.9895\n",
      "Epoch 54/64\n",
      "20000/20000 [==============================] - 3s 167us/step - loss: 0.0325 - acc: 0.9888\n",
      "Epoch 55/64\n",
      "20000/20000 [==============================] - 3s 171us/step - loss: 0.0356 - acc: 0.9867\n",
      "Epoch 56/64\n",
      "20000/20000 [==============================] - 3s 171us/step - loss: 0.0325 - acc: 0.9895\n",
      "Epoch 57/64\n",
      "20000/20000 [==============================] - 3s 172us/step - loss: 0.0263 - acc: 0.9911\n",
      "Epoch 58/64\n",
      "20000/20000 [==============================] - 3s 169us/step - loss: 0.0332 - acc: 0.9890\n",
      "Epoch 59/64\n",
      "20000/20000 [==============================] - 3s 168us/step - loss: 0.0282 - acc: 0.9908\n",
      "Epoch 60/64\n",
      "20000/20000 [==============================] - 3s 168us/step - loss: 0.0273 - acc: 0.9906\n",
      "Epoch 61/64\n",
      "20000/20000 [==============================] - 3s 167us/step - loss: 0.0249 - acc: 0.9914\n",
      "Epoch 62/64\n",
      "20000/20000 [==============================] - 3s 166us/step - loss: 0.0294 - acc: 0.9894\n",
      "Epoch 63/64\n",
      "20000/20000 [==============================] - 3s 165us/step - loss: 0.0344 - acc: 0.9894\n",
      "Epoch 64/64\n",
      "20000/20000 [==============================] - 3s 167us/step - loss: 0.0304 - acc: 0.9896\n"
     ]
    }
   ],
   "source": [
    "LeNet.compile(loss='binary_crossentropy', optimizer='adam', metrics=[\"accuracy\"])\n",
    "LeNet_fit= LeNet.fit(\n",
    "    traintensor, # Training data\n",
    "    Y_train, # Labels of training data\n",
    "    batch_size=128, # Batch size for the optimizer algorithm\n",
    "    epochs=64, # Number of epochs to run the optimizer algorithm\n",
    "    verbose=1, # Level of verbosity of the log messages\n",
    "    callbacks=[history] # to record the epochs logs\n",
    "    )"
   ]
  },
  {
   "cell_type": "markdown",
   "metadata": {
    "colab_type": "text",
    "id": "hOeJlqGFTK__"
   },
   "source": [
    "<br><li>Se guarda el modelo</li>"
   ]
  },
  {
   "cell_type": "code",
   "execution_count": 0,
   "metadata": {
    "colab": {},
    "colab_type": "code",
    "id": "ffPJb5ycTKuH"
   },
   "outputs": [],
   "source": [
    "pathName='/content/drive/My Drive/MDS/38_Deep Learning/practice/data/'\n",
    "fileName='LeNet_fit'\n",
    "fileExtension='pkz'\n",
    "variable=LeNet\n",
    "compressedFileSave(pathName,fileName,fileExtension,variable)"
   ]
  },
  {
   "cell_type": "markdown",
   "metadata": {
    "colab_type": "text",
    "id": "ZLe2lRBkpvEa"
   },
   "source": [
    "<br><li>Cálculo del performance del modelo</li>"
   ]
  },
  {
   "cell_type": "code",
   "execution_count": 91,
   "metadata": {
    "colab": {
     "base_uri": "https://localhost:8080/",
     "height": 90
    },
    "colab_type": "code",
    "id": "Hly5BGeRpvh-",
    "outputId": "b561ab0c-4861-4380-fe10-bc01a01fcce2"
   },
   "outputs": [
    {
     "name": "stdout",
     "output_type": "stream",
     "text": [
      "20000/20000 [==============================] - 2s 120us/step\n",
      "5000/5000 [==============================] - 1s 118us/step\n",
      "Test loss 0.7622267841637135\n",
      "Test accuracy 0.8296\n"
     ]
    }
   ],
   "source": [
    "train_accuracy = LeNet.evaluate(traintensor, Y_train)[1]\n",
    "score = LeNet.evaluate(testtensor, Y_test)\n",
    "try:\n",
    "  df_score=df_score.reindex(index = ['Test loss','Test accuracy','Train accuracy'])\n",
    "  df_score[\"LeNet\"]= [score[0],score[1],train_accuracy]\n",
    "except:\n",
    "  df_score= pd.DataFrame.from_dict({\"LeNet\":\n",
    "                                   {\n",
    "                                       \"Test loss\":score[0],\n",
    "                                       \"Test accuracy\": score[1],\n",
    "                                       \"Train accuracy\": train_accuracy\n",
    "                                   }\n",
    "                                   })\n",
    "\n",
    "Y_pred_LeNet =  LeNet.predict_classes(testtensor) \n",
    "print(\"Test loss\", score[0])\n",
    "print(\"Test accuracy\", score[1])"
   ]
  },
  {
   "cell_type": "markdown",
   "metadata": {
    "colab_type": "text",
    "id": "5PLgoF31KlZf"
   },
   "source": [
    "<br><li>Se guarda el history del training</li>"
   ]
  },
  {
   "cell_type": "code",
   "execution_count": 0,
   "metadata": {
    "colab": {},
    "colab_type": "code",
    "id": "rojGp1Y8KlK9"
   },
   "outputs": [],
   "source": [
    "df_epochs_LeNet= pd.DataFrame.from_dict({\n",
    "    'epoch': range(len(LeNet_fit.history['acc'])),\n",
    "    'acc': LeNet_fit.history['acc'],\n",
    "    'loss': LeNet_fit.history['loss']})"
   ]
  },
  {
   "cell_type": "markdown",
   "metadata": {
    "colab_type": "text",
    "id": "7EzCbl-AVamU"
   },
   "source": [
    "<br>\n",
    "\n",
    "## Early Stopping strategy\n",
    "\n",
    ">> Se comprueba que la técnica *early stopping* detiene la ejecución del modelo, según los parámetros definidos, reduciendo el overfitting del modelo.\n"
   ]
  },
  {
   "cell_type": "markdown",
   "metadata": {
    "colab_type": "text",
    "id": "sBSbNigAV7ef"
   },
   "source": [
    "<br><li>Técnica Early stopping.</li>\n",
    "\n",
    "> Esta técnica detiene el entrenamiento del modelo cuando se cumplen ciertos criterios establecidos reduciendo la probabilidad de overfitting ya que no se le deja al modelo seguir entrenando, es decir, aprendiendo y ajustándose al training set.<br>\n",
    "Los criterios de parada son enfunción de la variación de la función de pérdida, cuando esta no mejora en un valor determinado y/o no se produce una mejora en k épocas consecutivas.<br>\n",
    "Para el uso de esta técnica es preciso utilizar cross-validation para tener un grupo de validación donde chequear lo mencionado.\n",
    "\n",
    "> Configuración:<br>\n",
    "- *min_delta*: 0. Mejora mínima de la función de pérdida.<br>\n",
    "- *patience*: 3. Número de épocas sin la mejora mínima en la función de pérdida.\n",
    "\n",
    "<br><li>Cross-Validation.</li>\n",
    "\n",
    "> Configuración: 30%\n"
   ]
  },
  {
   "cell_type": "code",
   "execution_count": 0,
   "metadata": {
    "colab": {},
    "colab_type": "code",
    "id": "7AOuM_96V7Uh"
   },
   "outputs": [],
   "source": [
    "#Early Stopping\n",
    "from keras.callbacks import EarlyStopping\n",
    "es = EarlyStopping(monitor='val_loss',\n",
    "                   min_delta=0, # threshold to whether quantify a loss at some epoch as improvement or not\n",
    "                   patience=4, #number of epochs before stopping once your loss starts to increase (stops improving)\n",
    "                   verbose=0, \n",
    "                   mode='auto',#what direction your monitored quantity has (is it supposed to be decreasing or increasing\n",
    "                   baseline=None) "
   ]
  },
  {
   "cell_type": "markdown",
   "metadata": {
    "colab_type": "text",
    "id": "xLaw-EXXV7L4"
   },
   "source": [
    "<br><li>Diseño de la arquitectura del modelo</li>"
   ]
  },
  {
   "cell_type": "code",
   "execution_count": 0,
   "metadata": {
    "colab": {},
    "colab_type": "code",
    "id": "geBdniZjYDLw"
   },
   "outputs": [],
   "source": [
    "img_rows = X_train[0].shape[0]\n",
    "img_cols = X_train[0].shape[1]\n",
    "img_channels= X_train[0].shape[2]\n",
    "\n",
    "LeNet_es = Sequential()\n",
    "\n",
    "LeNet_es.add(Convolution2D(20, (5, 5),\n",
    "                        padding='valid',\n",
    "                        input_shape=(img_rows, img_cols, img_channels)))\n",
    "LeNet_es.add(Activation('relu'))\n",
    "LeNet_es.add(MaxPooling2D(pool_size=(2, 2), strides=(2, 2)))\n",
    "LeNet_es.add(Dropout(0.25))\n",
    "LeNet_es.add(Convolution2D(50, (5, 5)))\n",
    "LeNet_es.add(Activation('relu'))\n",
    "LeNet_es.add(MaxPooling2D(pool_size=(2, 2), strides=(2, 2)))\n",
    "LeNet_es.add(Dropout(0.25))\n",
    "LeNet_es.add(Flatten())\n",
    "LeNet_es.add(Dense(500))\n",
    "LeNet_es.add(Activation('relu'))\n",
    "LeNet_es.add(Dropout(0.5))\n",
    "LeNet_es.add(Dense(2))\n",
    "LeNet_es.add(Activation('sigmoid'))"
   ]
  },
  {
   "cell_type": "markdown",
   "metadata": {
    "colab_type": "text",
    "id": "o2CdD_AJYYaF"
   },
   "source": [
    "<br><li>Compilación y entrenamiento del modelo</li>"
   ]
  },
  {
   "cell_type": "code",
   "execution_count": 95,
   "metadata": {
    "colab": {
     "base_uri": "https://localhost:8080/",
     "height": 508
    },
    "colab_type": "code",
    "id": "O-ovUjzEYXt8",
    "outputId": "98cf2d9f-fb6f-45e9-c51f-58d5f6a218aa"
   },
   "outputs": [
    {
     "name": "stdout",
     "output_type": "stream",
     "text": [
      "Train on 14000 samples, validate on 6000 samples\n",
      "Epoch 1/64\n",
      "14000/14000 [==============================] - 4s 275us/step - loss: 0.6874 - acc: 0.5617 - val_loss: 0.6559 - val_acc: 0.6124\n",
      "Epoch 2/64\n",
      "14000/14000 [==============================] - 3s 191us/step - loss: 0.6140 - acc: 0.6636 - val_loss: 0.5831 - val_acc: 0.6996\n",
      "Epoch 3/64\n",
      "14000/14000 [==============================] - 3s 187us/step - loss: 0.5498 - acc: 0.7232 - val_loss: 0.5289 - val_acc: 0.7364\n",
      "Epoch 4/64\n",
      "14000/14000 [==============================] - 3s 188us/step - loss: 0.5080 - acc: 0.7516 - val_loss: 0.5315 - val_acc: 0.7377\n",
      "Epoch 5/64\n",
      "14000/14000 [==============================] - 3s 189us/step - loss: 0.4745 - acc: 0.7784 - val_loss: 0.4738 - val_acc: 0.7781\n",
      "Epoch 6/64\n",
      "14000/14000 [==============================] - 3s 191us/step - loss: 0.4433 - acc: 0.7940 - val_loss: 0.4865 - val_acc: 0.7664\n",
      "Epoch 7/64\n",
      "14000/14000 [==============================] - 3s 188us/step - loss: 0.4155 - acc: 0.8101 - val_loss: 0.4434 - val_acc: 0.7917\n",
      "Epoch 8/64\n",
      "14000/14000 [==============================] - 3s 192us/step - loss: 0.3765 - acc: 0.8303 - val_loss: 0.4444 - val_acc: 0.7936\n",
      "Epoch 9/64\n",
      "14000/14000 [==============================] - 3s 193us/step - loss: 0.3510 - acc: 0.8441 - val_loss: 0.4304 - val_acc: 0.8028\n",
      "Epoch 10/64\n",
      "14000/14000 [==============================] - 3s 194us/step - loss: 0.3192 - acc: 0.8627 - val_loss: 0.4343 - val_acc: 0.8034\n",
      "Epoch 11/64\n",
      "14000/14000 [==============================] - 3s 190us/step - loss: 0.2858 - acc: 0.8806 - val_loss: 0.4504 - val_acc: 0.8032\n",
      "Epoch 12/64\n",
      "14000/14000 [==============================] - 3s 190us/step - loss: 0.2469 - acc: 0.8967 - val_loss: 0.4657 - val_acc: 0.7966\n",
      "Epoch 13/64\n",
      "14000/14000 [==============================] - 3s 193us/step - loss: 0.2309 - acc: 0.9070 - val_loss: 0.4860 - val_acc: 0.7920\n"
     ]
    }
   ],
   "source": [
    "LeNet_es.compile(loss='binary_crossentropy', optimizer='adam', metrics=[\"accuracy\"])\n",
    "LeNet_es_fit= LeNet_es.fit(traintensor,\n",
    "             Y_train,\n",
    "             batch_size=128,\n",
    "             epochs=64,\n",
    "             verbose=1,\n",
    "             validation_split=0.3,\n",
    "             callbacks=[es, history]\n",
    ")"
   ]
  },
  {
   "cell_type": "markdown",
   "metadata": {
    "colab_type": "text",
    "id": "6YLTk4ugTOpb"
   },
   "source": [
    "<br><li>Se guarda el modelo</li>"
   ]
  },
  {
   "cell_type": "code",
   "execution_count": 0,
   "metadata": {
    "colab": {},
    "colab_type": "code",
    "id": "OxamE4yFTOZB"
   },
   "outputs": [],
   "source": [
    "pathName='/content/drive/My Drive/MDS/38_Deep Learning/practice/data/'\n",
    "fileName='LeNet_es_fit'\n",
    "fileExtension='pkz'\n",
    "variable=LeNet_es\n",
    "compressedFileSave(pathName,fileName,fileExtension,variable)"
   ]
  },
  {
   "cell_type": "markdown",
   "metadata": {
    "colab_type": "text",
    "id": "ewO0FLxlYXjG"
   },
   "source": [
    "<br><li>Cálculo del performance del modelo</li>"
   ]
  },
  {
   "cell_type": "code",
   "execution_count": 97,
   "metadata": {
    "colab": {
     "base_uri": "https://localhost:8080/",
     "height": 90
    },
    "colab_type": "code",
    "id": "WEYjPe56YmWy",
    "outputId": "8e7e72e2-0804-472f-f58d-7c6f5b8f640d"
   },
   "outputs": [
    {
     "name": "stdout",
     "output_type": "stream",
     "text": [
      "20000/20000 [==============================] - 2s 110us/step\n",
      "5000/5000 [==============================] - 1s 107us/step\n",
      "Test loss 0.4637125474452972\n",
      "Test accuracy 0.8005\n"
     ]
    }
   ],
   "source": [
    "train_accuracy = LeNet_es.evaluate(traintensor, Y_train)[1]\n",
    "score = LeNet_es.evaluate(testtensor, Y_test)\n",
    "try:\n",
    "  df_score=df_score.reindex(index = ['Test loss','Test accuracy','Train accuracy'])\n",
    "  df_score[\"LeNet_es\"]= [score[0],score[1],train_accuracy]\n",
    "except:\n",
    "  df_score= pd.DataFrame.from_dict({\"LeNet_es\":\n",
    "                                   {\n",
    "                                       \"Test loss\":score[0],\n",
    "                                       \"Test accuracy\": score[1],\n",
    "                                       \"Train accuracy\": train_accuracy\n",
    "                                   }\n",
    "                                   })\n",
    "\n",
    "Y_pred_LeNet_es =  LeNet_es.predict_classes(testtensor)   \n",
    "print(\"Test loss\", score[0])\n",
    "print(\"Test accuracy\", score[1])"
   ]
  },
  {
   "cell_type": "markdown",
   "metadata": {
    "colab_type": "text",
    "id": "X35ETcHkKw_U"
   },
   "source": [
    "<br><li>Se guarda el history del training</li>"
   ]
  },
  {
   "cell_type": "code",
   "execution_count": 0,
   "metadata": {
    "colab": {},
    "colab_type": "code",
    "id": "2ezrJbeiKwoO"
   },
   "outputs": [],
   "source": [
    "df_epochs_LeNet_es= pd.DataFrame.from_dict({\n",
    "    'epoch': range(len(LeNet_es_fit.history['acc'])),\n",
    "    'acc': LeNet_es_fit.history['acc'],\n",
    "    'loss': LeNet_es_fit.history['loss']})"
   ]
  },
  {
   "cell_type": "markdown",
   "metadata": {
    "colab_type": "text",
    "id": "ji2urSdEIu_7"
   },
   "source": [
    "## Image Augmentation Techniques strategy"
   ]
  },
  {
   "cell_type": "markdown",
   "metadata": {
    "colab_type": "text",
    "id": "QLqT7LvtI1mH"
   },
   "source": [
    "Técnica que aumenta el training set generando nuevos patrones transformados de manera aleatoria.<br>\n",
    "Muy usado en data sets pequeños para aumentar el volumen del training set sin incurrir en overfitting del modelo.<br>\n",
    "\n",
    "Se compone de los siguientes pasos:\n",
    "\n",
    "1. Arquitectura del modelo\n",
    "2. Configuración de la aleatoriedad de la generación de imágenes [ImageDataGenerator]\n",
    "3. Generación de las imágenes del train set [Train_datagen.flow] y del validation set [Validation_generator]\n",
    "4. Entrenamietno del modelo [Fit_generator]"
   ]
  },
  {
   "cell_type": "markdown",
   "metadata": {
    "colab_type": "text",
    "id": "N6awSVEVrKW6"
   },
   "source": [
    "1. Arquitectura del modelo.<br>\n",
    "Se toma la arquitectura del modelo 1, que es el que queremos mejorar."
   ]
  },
  {
   "cell_type": "code",
   "execution_count": 0,
   "metadata": {
    "colab": {},
    "colab_type": "code",
    "id": "MEEoHIo0rJx6"
   },
   "outputs": [],
   "source": [
    "imgAugModel= model2"
   ]
  },
  {
   "cell_type": "markdown",
   "metadata": {
    "colab_type": "text",
    "id": "WckklDTyPTBU"
   },
   "source": [
    "2. Configuración de la aleatoriedad de la generación de imágenes [ImageDataGenerator].<br>\n",
    "Configuración de la generación de nuevos patrones en training set mediante la transformación de los patrones existentes. El overfitting se evita con la configuración de dicha transformación.<br>\n",
    "\n",
    "> <li>Confiuración.</li>\n",
    "  \n",
    "  > + rotación de imagen. Se define el rango de los grados a rotar [40].\n",
    "  > + traslación en horizontal y vertical.  Se define el rango de traslación en porcentage [0.2].\n",
    "  > + reescalado. En este caso, el data set ya está reescalado (-0.5.0.5) [No hay]\n",
    "  > + zoom. Se define el rango del porcentage de zoom a aplicar [0.2].\n",
    "  > + Volteo horinzontal. Se establece si hay o no volteo [True]\n",
    "  > + shear mapping. Desplazamiento de cada punto horizontalmente por una cantidad proporcional a su coordenada $(x,y) \\to (x+m·y,y)$. rango de m [m=0.2]\n",
    "  > + strategia para los NA. En el proceso de transformación surgen NAs para los nuevos píxeles. La estrategia de imputación seguida para los NAs es [nearest]"
   ]
  },
  {
   "cell_type": "code",
   "execution_count": 0,
   "metadata": {
    "colab": {},
    "colab_type": "code",
    "id": "ltvKssb1bM4a"
   },
   "outputs": [],
   "source": [
    "from keras.preprocessing.image import ImageDataGenerator\n",
    "\n",
    "# Create and define the imageDataGenerator to randomly create new images\n",
    "train_datagen = ImageDataGenerator(\n",
    "    \n",
    "    featurewise_center=False,  #Boolean. Set input mean to 0 over the dataset\n",
    "    featurewise_std_normalization=False,# Boolean. Divide inputs by std of the dataset\n",
    "    rotation_range=40, # range for img rotation\n",
    "    width_shift_range=0.2, # range for horizontal img displacement\n",
    "    height_shift_range=0.2, # range for vertical img displacement\n",
    "    shear_range=0.2,# shear mapping\n",
    "    zoom_range=0.2, # percentage of zoom\n",
    "    horizontal_flip=True, # horizontal flip\n",
    "    fill_mode='nearest' # strategy to fill new pixels generated with the transformations\n",
    "\n",
    ")"
   ]
  },
  {
   "cell_type": "markdown",
   "metadata": {
    "colab_type": "text",
    "id": "Uq8P8UgRVYSN"
   },
   "source": [
    "3. Generación de las imágenes del train set [Train_datagen.flow] y del validation set [Validation_generator].<br>\n",
    "Generación de los nuevos patrones.<br>\n",
    "Train: 80% Validation: 20%\n",
    "\n",
    "> + Confiuración.\n",
    ">> + Data. Data set de donde extraer las imágenes a transformar [X_train]\n",
    ">> + Label.  Data set de donde extraer los labels de las imágenes a transformar [Y_train]\n",
    ">> + batch_size. Tamaño de la muestra para generar nuevas imágenes [400]\n"
   ]
  },
  {
   "cell_type": "markdown",
   "metadata": {
    "colab_type": "text",
    "id": "6GO2F2asut5E"
   },
   "source": [
    " 4. Entrenamietno del modelo [Fit_generator]<br>\n",
    " Entrenamiento del modelo.<br>\n",
    "\n",
    "> + Confiuración.\n",
    ">> + Estimator. [Train_generator]\n",
    ">> + Steps_per_epoch. Se le indica la algoritmo cuando empieza una nueva época en la validación [len(X_train) // batch_size].\n",
    ">> + Epochs. Número de épocas que el algorimo ejecuta para opimizar [20]\n",
    ">> + Validation_data. Identificación del validation data.\n",
    ">> + Validation_steps. Se le indica la algoritmo cuando empieza una nueva época en la validación [len(X_test) // batch_size].\n"
   ]
  },
  {
   "cell_type": "code",
   "execution_count": 101,
   "metadata": {
    "colab": {
     "base_uri": "https://localhost:8080/",
     "height": 1108
    },
    "colab_type": "code",
    "id": "jzVSTBJiVtZH",
    "outputId": "bae161f1-4d50-4f50-9b3d-7d041ec9a7a2"
   },
   "outputs": [
    {
     "name": "stdout",
     "output_type": "stream",
     "text": [
      "Epoch 1/30\n",
      "125/125 [==============================] - 20s 157ms/step - loss: 0.7085 - acc: 0.5871 - val_loss: 0.6172 - val_acc: 0.6507\n",
      "Epoch 2/30\n",
      "125/125 [==============================] - 18s 145ms/step - loss: 0.6376 - acc: 0.6330 - val_loss: 0.5970 - val_acc: 0.6852\n",
      "Epoch 3/30\n",
      "125/125 [==============================] - 18s 145ms/step - loss: 0.6159 - acc: 0.6647 - val_loss: 0.5801 - val_acc: 0.6969\n",
      "Epoch 4/30\n",
      "125/125 [==============================] - 20s 162ms/step - loss: 0.6067 - acc: 0.6751 - val_loss: 0.5803 - val_acc: 0.6995\n",
      "Epoch 5/30\n",
      "125/125 [==============================] - 18s 145ms/step - loss: 0.5975 - acc: 0.6796 - val_loss: 0.5576 - val_acc: 0.7033\n",
      "Epoch 6/30\n",
      "125/125 [==============================] - 18s 145ms/step - loss: 0.5904 - acc: 0.6882 - val_loss: 0.5638 - val_acc: 0.7082\n",
      "Epoch 7/30\n",
      "125/125 [==============================] - 18s 146ms/step - loss: 0.5873 - acc: 0.6882 - val_loss: 0.5518 - val_acc: 0.7098\n",
      "Epoch 8/30\n",
      "125/125 [==============================] - 19s 154ms/step - loss: 0.5791 - acc: 0.6953 - val_loss: 0.5526 - val_acc: 0.7162\n",
      "Epoch 9/30\n",
      "125/125 [==============================] - 18s 148ms/step - loss: 0.5720 - acc: 0.7038 - val_loss: 0.5438 - val_acc: 0.7164\n",
      "Epoch 10/30\n",
      "125/125 [==============================] - 18s 145ms/step - loss: 0.5713 - acc: 0.7021 - val_loss: 0.5527 - val_acc: 0.7193\n",
      "Epoch 11/30\n",
      "125/125 [==============================] - 20s 159ms/step - loss: 0.5675 - acc: 0.7068 - val_loss: 0.5306 - val_acc: 0.7264\n",
      "Epoch 12/30\n",
      "125/125 [==============================] - 19s 148ms/step - loss: 0.5632 - acc: 0.7077 - val_loss: 0.5311 - val_acc: 0.7407\n",
      "Epoch 13/30\n",
      "125/125 [==============================] - 19s 155ms/step - loss: 0.5608 - acc: 0.7119 - val_loss: 0.5330 - val_acc: 0.7220\n",
      "Epoch 14/30\n",
      "125/125 [==============================] - 18s 146ms/step - loss: 0.5547 - acc: 0.7202 - val_loss: 0.5428 - val_acc: 0.7215\n",
      "Epoch 15/30\n",
      "125/125 [==============================] - 18s 146ms/step - loss: 0.5573 - acc: 0.7140 - val_loss: 0.5282 - val_acc: 0.7381\n",
      "Epoch 16/30\n",
      "125/125 [==============================] - 18s 146ms/step - loss: 0.5517 - acc: 0.7191 - val_loss: 0.5319 - val_acc: 0.7257\n",
      "Epoch 17/30\n",
      "125/125 [==============================] - 20s 157ms/step - loss: 0.5563 - acc: 0.7115 - val_loss: 0.5326 - val_acc: 0.7354\n",
      "Epoch 18/30\n",
      "125/125 [==============================] - 18s 145ms/step - loss: 0.5502 - acc: 0.7191 - val_loss: 0.5296 - val_acc: 0.7327\n",
      "Epoch 19/30\n",
      "125/125 [==============================] - 18s 145ms/step - loss: 0.5513 - acc: 0.7191 - val_loss: 0.5266 - val_acc: 0.7322\n",
      "Epoch 20/30\n",
      "125/125 [==============================] - 18s 145ms/step - loss: 0.5446 - acc: 0.7263 - val_loss: 0.5223 - val_acc: 0.7297\n",
      "Epoch 21/30\n",
      "125/125 [==============================] - 20s 161ms/step - loss: 0.5453 - acc: 0.7238 - val_loss: 0.5282 - val_acc: 0.7261\n",
      "Epoch 22/30\n",
      "125/125 [==============================] - 18s 147ms/step - loss: 0.5439 - acc: 0.7246 - val_loss: 0.5152 - val_acc: 0.7386\n",
      "Epoch 23/30\n",
      "125/125 [==============================] - 19s 153ms/step - loss: 0.5431 - acc: 0.7253 - val_loss: 0.5100 - val_acc: 0.7464\n",
      "Epoch 24/30\n",
      "125/125 [==============================] - 18s 145ms/step - loss: 0.5404 - acc: 0.7254 - val_loss: 0.5237 - val_acc: 0.7353\n",
      "Epoch 25/30\n",
      "125/125 [==============================] - 19s 148ms/step - loss: 0.5426 - acc: 0.7212 - val_loss: 0.5198 - val_acc: 0.7404\n",
      "Epoch 26/30\n",
      "125/125 [==============================] - 19s 155ms/step - loss: 0.5397 - acc: 0.7270 - val_loss: 0.5183 - val_acc: 0.7335\n",
      "Epoch 27/30\n",
      "125/125 [==============================] - 19s 156ms/step - loss: 0.5377 - acc: 0.7261 - val_loss: 0.5279 - val_acc: 0.7333\n",
      "Epoch 28/30\n",
      "125/125 [==============================] - 19s 149ms/step - loss: 0.5356 - acc: 0.7261 - val_loss: 0.5135 - val_acc: 0.7393\n",
      "Epoch 29/30\n",
      "125/125 [==============================] - 18s 146ms/step - loss: 0.5323 - acc: 0.7319 - val_loss: 0.5238 - val_acc: 0.7310\n",
      "Epoch 30/30\n",
      "125/125 [==============================] - 20s 157ms/step - loss: 0.5347 - acc: 0.7298 - val_loss: 0.5097 - val_acc: 0.7385\n"
     ]
    }
   ],
   "source": [
    "from sklearn.model_selection import train_test_split\n",
    "\n",
    "# split in train and validation sets\n",
    "perc_split=0.8\n",
    "train_idx,val_idx = train_test_split(range(len(X_train)),train_size= perc_split, random_state=77 ,shuffle= True)\n",
    "X_train_img= X_train[train_idx]\n",
    "X_train_val= X_train[val_idx]\n",
    "Y_train_img= Y_train[train_idx]\n",
    "Y_train_val= Y_train[val_idx]\n",
    "\n",
    "batch_size = 128                                                          \n",
    "train_datagen.fit(X_train)\n",
    "\n",
    "# this is a generator that will take images from training set in a batch size number and indefinitely generate batches of augmented image data\n",
    "train_generator = train_datagen.flow(X_train_img, Y_train_img, batch_size=batch_size) \n",
    "\n",
    "# this is a similar generator, for validation data\n",
    "validation_generator = train_datagen.flow(X_train_val, Y_train_val, batch_size=batch_size)\n",
    "\n",
    "\n",
    "# fit_generator func makes the training data set randomly change and adjusted in each batch.\n",
    "# fits the model on batches with real-time data augmentation:\n",
    "imgAugModel_fit= imgAugModel.fit_generator(train_generator,\n",
    "                                          steps_per_epoch=len(X_train_img) // batch_size, # for algorimth to know when it is a new epoch. Once Keras hits this step count.\n",
    "                                          epochs=30,  # Number of epochs to run the optimizer algorithm\n",
    "                                          validation_data=validation_generator, # Define the validation set\n",
    "                                          validation_steps=len(X_train_val) // batch_size,  # for algorimth to know when it is a new epoch. Once Keras hits this step count.\n",
    "                                          verbose=1, # Level of verbosity of the log messages\n",
    "                                          callbacks=[history] # to record the epochs logs\n",
    "                                          )\n",
    "\n"
   ]
  },
  {
   "cell_type": "markdown",
   "metadata": {
    "colab_type": "text",
    "id": "LmqXG8e9EK4f"
   },
   "source": [
    "<br>\n",
    "+ Comprobación de las imágenes generadas<br>\n",
    "Cada elemento del objecto es un batch de 800 imágenes"
   ]
  },
  {
   "cell_type": "code",
   "execution_count": 102,
   "metadata": {
    "colab": {
     "base_uri": "https://localhost:8080/",
     "height": 35
    },
    "colab_type": "code",
    "id": "T-gCDfYQEJ-y",
    "outputId": "10a35ddd-e31e-41bb-9f0a-b41ce611a1ad"
   },
   "outputs": [
    {
     "data": {
      "text/plain": [
       "128"
      ]
     },
     "execution_count": 102,
     "metadata": {
      "tags": []
     },
     "output_type": "execute_result"
    }
   ],
   "source": [
    "len(train_generator[1][0])"
   ]
  },
  {
   "cell_type": "markdown",
   "metadata": {
    "colab_type": "text",
    "id": "V_A3l-uOTSmu"
   },
   "source": [
    "<br><li>Se guarda el modelo</li>"
   ]
  },
  {
   "cell_type": "code",
   "execution_count": 0,
   "metadata": {
    "colab": {},
    "colab_type": "code",
    "id": "6T83JTtkTSYT"
   },
   "outputs": [],
   "source": [
    "pathName='/content/drive/My Drive/MDS/38_Deep Learning/practice/data/'\n",
    "fileName='imgAugModel_fit'\n",
    "fileExtension='pkz'\n",
    "variable= imgAugModel\n",
    "compressedFileSave(pathName,fileName,fileExtension,variable)"
   ]
  },
  {
   "cell_type": "markdown",
   "metadata": {
    "colab_type": "text",
    "id": "k8KSn91SA5kh"
   },
   "source": [
    "<br><li>Cálculo del performance del modelo</li>"
   ]
  },
  {
   "cell_type": "code",
   "execution_count": 104,
   "metadata": {
    "colab": {
     "base_uri": "https://localhost:8080/",
     "height": 90
    },
    "colab_type": "code",
    "id": "mRPMsV5KqsAB",
    "outputId": "aae2ac1d-42eb-44f4-8733-576e699ed5d6"
   },
   "outputs": [
    {
     "name": "stdout",
     "output_type": "stream",
     "text": [
      "20000/20000 [==============================] - 2s 100us/step\n",
      "5000/5000 [==============================] - 0s 92us/step\n",
      "Test loss 0.4947210391044617\n",
      "Test accuracy 0.7655\n"
     ]
    }
   ],
   "source": [
    "train_accuracy = imgAugModel.evaluate(traintensor, Y_train)[1]\n",
    "score = imgAugModel.evaluate(testtensor, Y_test)\n",
    "try:\n",
    "  df_score=df_score.reindex(index = ['Test loss','Test accuracy','Train accuracy'])\n",
    "  df_score[\"imgAugModel\"]= [score[0],score[1],train_accuracy]\n",
    "except:\n",
    "  df_score= pd.DataFrame.from_dict({\"imgAugModel\":\n",
    "                                     {\n",
    "                                         \"Test loss\":score[0],\n",
    "                                         \"Test accuracy\": score[1],\n",
    "                                         \"Train accuracy\": train_accuracy\n",
    "                                     }\n",
    "                                   })\n",
    "\n",
    "Y_pred_imgAugModel =  imgAugModel.predict_classes(testtensor)  \n",
    "print(\"Test loss\", score[0])\n",
    "print(\"Test accuracy\", score[1])"
   ]
  },
  {
   "cell_type": "markdown",
   "metadata": {
    "colab_type": "text",
    "id": "--pDZGKMK-Wt"
   },
   "source": [
    "<br><li>Se guarda el history del training</li>"
   ]
  },
  {
   "cell_type": "code",
   "execution_count": 0,
   "metadata": {
    "colab": {},
    "colab_type": "code",
    "id": "O7TGn0ToK-A7"
   },
   "outputs": [],
   "source": [
    "df_epochs_imgAugModel= pd.DataFrame.from_dict({\n",
    "    'epoch': range(len(imgAugModel_fit.history['acc'])),\n",
    "    'acc': imgAugModel_fit.history['acc'],\n",
    "    'loss': imgAugModel_fit.history['loss']})"
   ]
  },
  {
   "cell_type": "markdown",
   "metadata": {
    "colab_type": "text",
    "id": "Eq-D4X02mojm"
   },
   "source": [
    "## Trained models strategy"
   ]
  },
  {
   "cell_type": "markdown",
   "metadata": {
    "colab_type": "text",
    "id": "RzdNv-2XnQjF"
   },
   "source": [
    "Esta estrategia consiste en utilizar modelos ya entrenados y comprobados que tienen una arquitectura buena adaptándolos al nuevo dataset de estudio.<br>\n",
    "Fases:\n",
    "> + 1. Definir el modelo base: modelo entrenado\n",
    "> + 2. Adaptar el modelo base al nuevo data set añadiendo las capas necesarias.\n",
    ">> Facores a considerar:\n",
    ">> + 2.1 Dimensión de la capa output\n",
    ">> + 2.2 Dimensión de las imágenes en la capa output\n",
    ">> + 2.3 Número de clases a clasificar\n",
    "> + 3. Entrenamiento del modelo.\n",
    ">> + 3.1 Entrenamiento de la adpatación al nuevo data set, las nuevas capas añadidas, congelando capas del modelo base.\n",
    ">> + 3.2 Entrenamiento de todo el modelo (modelo base + adaptación).\n",
    "\n"
   ]
  },
  {
   "cell_type": "markdown",
   "metadata": {
    "colab_type": "text",
    "id": "aYPSVBQuPiCP"
   },
   "source": [
    "### ResNet50 (1)"
   ]
  },
  {
   "cell_type": "markdown",
   "metadata": {
    "colab_type": "text",
    "id": "nUlPmZDwmxM6"
   },
   "source": [
    "<br>1. Arquitectura del modelo.<br>\n",
    "+  blocks: Número de bloques del arquitectura (4 capas densas).<br>\n",
    "+ include_top: Aplicaión de *connections residual*. Consiste en  dar la opción al modelo de saltarse un bloque. Con esto se consigue  por un lado dejar al modelo que optimice las primeras capas (lejos del output) y, por otro, evitar los valores cercanos a cero que se pueden obtener en la fase del back-propagation.<br>\n",
    "+ weights: Inicialización de los pesos. Factor importantisimo en los modelos de redes neuronales ya que no son robustos.<br>\n",
    "Esta falta de robustez implica que dependiendo de estos valores iniciales se llega a un mínimo local u otro. Para solventar esta eventualidad se corre el modelo varias veces (número de épocas).<br>\n",
    "Otro factor que ayuda al modelo a encontrar el mínimo global es el *momentum* solo no es suficiente.<br>\n",
    "Por lo general los modelos pre-entrenados dan tres opciones:<br>\n",
    ">> 1. Inicialización aleatoria [random initialization].\n",
    ">> 2. Los pesos del modelo pre-entrenado.[imagenet].\n",
    ">> 3. Pesos pre-establecidos [path to the weights file to be loaded].<br>\n",
    "\n",
    "> Best practices sugieren entrenar primeramente con los pesos del modelo pre-entrenado para terminar con un entrenamiento de pocas épocas de todo el modelo.\n",
    "\n",
    "+ input_tensor: input del data set de estudio que se usa como input del modelo pre-entrenado.<br>\n",
    "+ input_shape: dimensiones de la imagen -width, heigth & num. of channels (num=3)- (solo cuando include_top = False).<br>\n",
    "+ pooling: modo de pooling de las características de la región (solo cuando include_top = False).<br>\n",
    ">> 1. None no se reduce (dimensión del  output del modelo: 4D tensor output de la última capa de convolución).<br>\n",
    ">> 2. avg se aplica la media para extraer la característica de la región (dimensión del  output del modelo: 2D tensor).<br>\n",
    ">> 3. max se aplica el valor máximo para extraer la característica de la región (dimensión del  output del modelo: 2D tensor)<br>\n",
    "+ classes: Número de clases a clasificar. Tiene que ser coherente con el data set en estudio."
   ]
  },
  {
   "cell_type": "code",
   "execution_count": 106,
   "metadata": {
    "colab": {
     "base_uri": "https://localhost:8080/",
     "height": 54
    },
    "colab_type": "code",
    "id": "tn3fS9ho5mSi",
    "outputId": "9c8d1a64-aa08-47df-d86c-72eaf33e0efd"
   },
   "outputs": [
    {
     "name": "stdout",
     "output_type": "stream",
     "text": [
      "Downloading data from https://github.com/fchollet/deep-learning-models/releases/download/v0.2/resnet50_weights_tf_dim_ordering_tf_kernels_notop.h5\n",
      "94658560/94653016 [==============================] - 3s 0us/step\n"
     ]
    }
   ],
   "source": [
    "from keras.applications.resnet50 import ResNet50\n",
    "from keras.models import Model\n",
    "\n",
    "img_rows = X_train[0].shape[0]\n",
    "img_cols = X_train[0].shape[1]\n",
    "\n",
    "# Get base model\n",
    "base_model = ResNet50(include_top= False,\n",
    "                      weights='imagenet',\n",
    "                      input_tensor=None,\n",
    "                      input_shape=(img_rows, img_cols, 3), \n",
    "                      pooling='max', \n",
    "                      classes=2)"
   ]
  },
  {
   "cell_type": "markdown",
   "metadata": {
    "colab_type": "text",
    "id": "hMvXVLBo5YXQ"
   },
   "source": [
    "<br>2.1 Adaptación del modelo base al nuevo data set añadiendo las capas necesarias.<br>\n",
    "> El ouput del modelo base será el input del modelo.<br>\n",
    "> Se añade el output acorde al data set de estudio. La última capa densa(2) con activación *sigmoid*"
   ]
  },
  {
   "cell_type": "code",
   "execution_count": 0,
   "metadata": {
    "colab": {},
    "colab_type": "code",
    "id": "h5h5e18fzKgH"
   },
   "outputs": [],
   "source": [
    "# Add final layers\n",
    "x = base_model.output\n",
    "newModelOutput = Dense(2, activation='sigmoid')(x)"
   ]
  },
  {
   "cell_type": "markdown",
   "metadata": {
    "colab_type": "text",
    "id": "6q-YtSBN5t8h"
   },
   "source": [
    "<br>3. Entrenamiento del modelo.\n",
    " + 3.1 Entrenamiento de la adpatación al nuevo data set, las nuevas capas añadidas, congelando capas del modelo base.\n"
   ]
  },
  {
   "cell_type": "markdown",
   "metadata": {
    "colab_type": "text",
    "id": "lpX2Lver9knE"
   },
   "source": [
    "> + 3.1.1 Selección de las capas a entrenar.<br>\n",
    "Se analiza la arquitectura del modelo base para saber qué capas hay que congelar en el entrenamiento.<br>\n",
    "Se congelan todas."
   ]
  },
  {
   "cell_type": "code",
   "execution_count": 0,
   "metadata": {
    "colab": {},
    "colab_type": "code",
    "id": "wEFFF0J0_uTA"
   },
   "outputs": [],
   "source": [
    "#base_model.summary()"
   ]
  },
  {
   "cell_type": "code",
   "execution_count": 0,
   "metadata": {
    "colab": {},
    "colab_type": "code",
    "id": "TPYG1rSJYPSW"
   },
   "outputs": [],
   "source": [
    "# build a classifier model to put on top of the convolutional model\n",
    "from keras.models import Model\n",
    "\n",
    "# This is the model we will train\n",
    "ResNet50_1 = Model(input=base_model.input, output=newModelOutput)\n",
    "\n",
    "# Freeze the base model layers\n",
    "for layer in ResNet50_1.layers:\n",
    "  layer.trainable = False"
   ]
  },
  {
   "cell_type": "markdown",
   "metadata": {
    "colab_type": "text",
    "id": "IBFZhuDj82Ct"
   },
   "source": [
    "<br>\n",
    "> + 3.1.2 Compilación y entrenamiento del modelo."
   ]
  },
  {
   "cell_type": "code",
   "execution_count": 110,
   "metadata": {
    "colab": {
     "base_uri": "https://localhost:8080/",
     "height": 217
    },
    "colab_type": "code",
    "id": "KlDuwgSz8nT-",
    "outputId": "f8cf33af-68f6-463e-c185-5877948c29b4"
   },
   "outputs": [
    {
     "name": "stdout",
     "output_type": "stream",
     "text": [
      "Train on 14000 samples, validate on 6000 samples\n",
      "Epoch 1/32\n",
      "14000/14000 [==============================] - 11s 768us/step - loss: 1.3716 - acc: 0.4984 - val_loss: 0.7205 - val_acc: 0.4963\n",
      "Epoch 2/32\n",
      "14000/14000 [==============================] - 7s 477us/step - loss: 1.3664 - acc: 0.4990 - val_loss: 0.7205 - val_acc: 0.4963\n",
      "Epoch 3/32\n",
      "14000/14000 [==============================] - 7s 476us/step - loss: 1.3698 - acc: 0.4996 - val_loss: 0.7205 - val_acc: 0.4963\n",
      "Epoch 4/32\n",
      "14000/14000 [==============================] - 7s 477us/step - loss: 1.3701 - acc: 0.4948 - val_loss: 0.7205 - val_acc: 0.4963\n",
      "Epoch 5/32\n",
      "14000/14000 [==============================] - 7s 476us/step - loss: 1.3682 - acc: 0.4964 - val_loss: 0.7205 - val_acc: 0.4963\n"
     ]
    }
   ],
   "source": [
    "ResNet50_1.compile(loss='binary_crossentropy', optimizer='adam', metrics=[\"accuracy\"])\n",
    "ResNet50_1_fit= ResNet50_1.fit(traintensor,\n",
    "               Y_train,\n",
    "               batch_size=400,\n",
    "               epochs=32,\n",
    "               verbose=1,\n",
    "               validation_split=0.3,\n",
    "               callbacks=[es, history]\n",
    ")"
   ]
  },
  {
   "cell_type": "markdown",
   "metadata": {
    "colab_type": "text",
    "id": "3dPmBRvSTfhd"
   },
   "source": [
    "<br><li>Se guarda el modelo</li>"
   ]
  },
  {
   "cell_type": "code",
   "execution_count": 0,
   "metadata": {
    "colab": {},
    "colab_type": "code",
    "id": "E7g4BNWiTfSr"
   },
   "outputs": [],
   "source": [
    "pathName='/content/drive/My Drive/MDS/38_Deep Learning/practice/data/'\n",
    "fileName='ResNet50_1_fit'\n",
    "fileExtension='pkz'\n",
    "variable= ResNet50_1\n",
    "compressedFileSave(pathName,fileName,fileExtension,variable)"
   ]
  },
  {
   "cell_type": "markdown",
   "metadata": {
    "colab_type": "text",
    "id": "SINNdEoamno8"
   },
   "source": [
    "<br>\n",
    "4. Cálculo del performance del modelo.<br>"
   ]
  },
  {
   "cell_type": "code",
   "execution_count": 115,
   "metadata": {
    "colab": {
     "base_uri": "https://localhost:8080/",
     "height": 108
    },
    "colab_type": "code",
    "id": "FO0_nR0u7KI4",
    "outputId": "a26ba2d2-fcaf-4e10-efc4-169d89d8f14d"
   },
   "outputs": [
    {
     "name": "stdout",
     "output_type": "stream",
     "text": [
      "20000/20000 [==============================] - 11s 549us/step\n",
      "5000/5000 [==============================] - 3s 531us/step\n",
      "5000/5000 [==============================] - 3s 525us/step\n",
      "Test loss 0.7205416748046874\n",
      "Test accuracy 0.4956\n"
     ]
    }
   ],
   "source": [
    "train_accuracy = ResNet50_1.evaluate(traintensor, Y_train)[1]\n",
    "score = ResNet50_1.evaluate(testtensor, Y_test)\n",
    "try:\n",
    "  df_score=df_score.reindex(index = ['Test loss','Test accuracy','Train accuracy'])\n",
    "  df_score[\"ResNet50_1\"]= [score[0],score[1],train_accuracy]\n",
    "except:\n",
    "  df_score= pd.DataFrame.from_dict({\"ResNet50_1\":\n",
    "                                     {\n",
    "                                         \"Test loss\":score[0],\n",
    "                                         \"Test accuracy\": score[1],\n",
    "                                         \"Train accuracy\": train_accuracy\n",
    "                                     }\n",
    "                                   })\n",
    "\n",
    "Y_pred_proba_ResNet50_1=  ResNet50_1.predict(testtensor, batch_size=32, verbose=1)\n",
    "Y_pred_ResNet50_1= np.argmax(Y_pred_proba_ResNet50_1, axis=1)\n",
    "print(\"Test loss\", score[0])\n",
    "print(\"Test accuracy\", score[1])"
   ]
  },
  {
   "cell_type": "markdown",
   "metadata": {
    "colab_type": "text",
    "id": "z6D4KmEmNa6Q"
   },
   "source": [
    "<br><li>Se guarda el history del training</li>"
   ]
  },
  {
   "cell_type": "code",
   "execution_count": 0,
   "metadata": {
    "colab": {},
    "colab_type": "code",
    "id": "uZr-yUCNt80v"
   },
   "outputs": [],
   "source": [
    "df_epochs_ResNet50_1= pd.DataFrame.from_dict({\n",
    "    'epoch': range(len(ResNet50_1_fit.history['acc'])),\n",
    "    'acc': ResNet50_1_fit.history['acc'],\n",
    "    'loss': ResNet50_1_fit.history['loss']})"
   ]
  },
  {
   "cell_type": "markdown",
   "metadata": {
    "colab_type": "text",
    "id": "44RqhBD9LY9v"
   },
   "source": [
    "<br><li>Plot the model.</li>"
   ]
  },
  {
   "cell_type": "code",
   "execution_count": 0,
   "metadata": {
    "colab": {},
    "colab_type": "code",
    "id": "WKKmevDKLYfm"
   },
   "outputs": [],
   "source": [
    "from keras.utils.vis_utils import plot_model\n",
    "plot_model(ResNet50_1)"
   ]
  },
  {
   "cell_type": "markdown",
   "metadata": {
    "colab_type": "text",
    "id": "FGYOnKoMPy9Z"
   },
   "source": [
    "### ResNet50 (2)"
   ]
  },
  {
   "cell_type": "markdown",
   "metadata": {
    "colab_type": "text",
    "id": "0Mg1I8TA8I1T"
   },
   "source": [
    "<br>\n",
    " + 3.2 Entrenamiento de todo el modelo.<br>\n",
    " Se entrena todo el modelo pocas épocas (8) por temas de computación."
   ]
  },
  {
   "cell_type": "code",
   "execution_count": 118,
   "metadata": {
    "colab": {
     "base_uri": "https://localhost:8080/",
     "height": 292
    },
    "colab_type": "code",
    "id": "_qK9MPz68Osl",
    "outputId": "872db2ab-f263-4d42-e05e-b015b22c8681"
   },
   "outputs": [
    {
     "name": "stdout",
     "output_type": "stream",
     "text": [
      "WARNING:tensorflow:From /usr/local/lib/python3.6/dist-packages/tensorflow/python/ops/math_grad.py:102: div (from tensorflow.python.ops.math_ops) is deprecated and will be removed in a future version.\n",
      "Instructions for updating:\n",
      "Deprecated in favor of operator or tf.math.divide.\n",
      "Train on 14000 samples, validate on 6000 samples\n",
      "Epoch 1/8\n",
      "14000/14000 [==============================] - 38s 3ms/step - loss: 0.5362 - acc: 0.8000 - val_loss: 0.5773 - val_acc: 0.8109\n",
      "Epoch 2/8\n",
      "14000/14000 [==============================] - 21s 2ms/step - loss: 0.4144 - acc: 0.8434 - val_loss: 7.9800 - val_acc: 0.5017\n",
      "Epoch 3/8\n",
      "14000/14000 [==============================] - 21s 2ms/step - loss: 0.6106 - acc: 0.7620 - val_loss: 8.0404 - val_acc: 0.4980\n",
      "Epoch 4/8\n",
      "14000/14000 [==============================] - 21s 2ms/step - loss: 0.5360 - acc: 0.7801 - val_loss: 1.6039 - val_acc: 0.5996\n",
      "Epoch 5/8\n",
      "14000/14000 [==============================] - 22s 2ms/step - loss: 0.5479 - acc: 0.7774 - val_loss: 0.7701 - val_acc: 0.5144\n"
     ]
    }
   ],
   "source": [
    "ResNet50_2= ResNet50_1\n",
    "for layer in ResNet50_2.layers:\n",
    "  layer.trainable = True\n",
    "\n",
    "ResNet50_2.compile(loss='binary_crossentropy', optimizer='adam', metrics=[\"accuracy\"])\n",
    "ResNet50_2_fit= ResNet50_2.fit(traintensor,\n",
    "               Y_train,\n",
    "               batch_size=128,\n",
    "               epochs=8,\n",
    "               verbose=1,\n",
    "               validation_split=0.3,\n",
    "               callbacks=[es, history]\n",
    ")"
   ]
  },
  {
   "cell_type": "markdown",
   "metadata": {
    "colab_type": "text",
    "id": "26MoXwTVTjfG"
   },
   "source": [
    "<br><li>Se guarda el modelo</li>"
   ]
  },
  {
   "cell_type": "code",
   "execution_count": 0,
   "metadata": {
    "colab": {},
    "colab_type": "code",
    "id": "bApl_9rnTjSM"
   },
   "outputs": [],
   "source": [
    "pathName='/content/drive/My Drive/MDS/38_Deep Learning/practice/data/'\n",
    "fileName='ResNet50_2_fit'\n",
    "fileExtension='pkz'\n",
    "variable= ResNet50_2\n",
    "compressedFileSave(pathName,fileName,fileExtension,variable)"
   ]
  },
  {
   "cell_type": "markdown",
   "metadata": {
    "colab_type": "text",
    "id": "gWIqWjmQ-ojU"
   },
   "source": [
    "<br>\n",
    "4. Cálculo del performance del modelo.<br>"
   ]
  },
  {
   "cell_type": "code",
   "execution_count": 120,
   "metadata": {
    "colab": {
     "base_uri": "https://localhost:8080/",
     "height": 108
    },
    "colab_type": "code",
    "id": "3BtCi_my-oPk",
    "outputId": "f19c21d8-ab14-4514-9176-03ec5e79521c"
   },
   "outputs": [
    {
     "name": "stdout",
     "output_type": "stream",
     "text": [
      "20000/20000 [==============================] - 11s 569us/step\n",
      "5000/5000 [==============================] - 3s 556us/step\n",
      "5000/5000 [==============================] - 4s 856us/step\n",
      "Test loss 0.761156118106842\n",
      "Test accuracy 0.5255\n"
     ]
    }
   ],
   "source": [
    "train_accuracy = ResNet50_2.evaluate(traintensor, Y_train)[1]\n",
    "score = ResNet50_2.evaluate(testtensor, Y_test)\n",
    "try:\n",
    "  df_score=df_score.reindex(index = ['Test loss','Test accuracy','Train accuracy'])\n",
    "  df_score[\"ResNet50_2\"]= [score[0],score[1],train_accuracy]\n",
    "except:\n",
    "  df_score= pd.DataFrame.from_dict({\"ResNet50_2\":\n",
    "                                     {\n",
    "                                         \"Test loss\":score[0],\n",
    "                                         \"Test accuracy\": score[1],\n",
    "                                         \"Train accuracy\": train_accuracy\n",
    "                                     }\n",
    "                                   })\n",
    "Y_pred_proba_ResNet50_2=  ResNet50_2.predict(testtensor, batch_size=32, verbose=1)\n",
    "Y_pred_ResNet50_2= np.argmax(Y_pred_proba_ResNet50_2, axis=1) \n",
    "print(\"Test loss\", score[0])\n",
    "print(\"Test accuracy\", score[1])"
   ]
  },
  {
   "cell_type": "markdown",
   "metadata": {
    "colab_type": "text",
    "id": "4mownDarLkhk"
   },
   "source": [
    "<br><li>Se guarda el history del training</li>"
   ]
  },
  {
   "cell_type": "code",
   "execution_count": 0,
   "metadata": {
    "colab": {},
    "colab_type": "code",
    "id": "CtN6VdxFLkTz"
   },
   "outputs": [],
   "source": [
    "df_epochs_ResNet50_2= pd.DataFrame.from_dict({\n",
    "    'epoch': range(len(ResNet50_2_fit.history['acc'])),\n",
    "    'acc': ResNet50_2_fit.history['acc'],\n",
    "    'loss': ResNet50_2_fit.history['loss']})"
   ]
  },
  {
   "cell_type": "markdown",
   "metadata": {
    "colab_type": "text",
    "id": "B7nHcSJJP8pV"
   },
   "source": [
    "### ResNet50 (3)"
   ]
  },
  {
   "cell_type": "markdown",
   "metadata": {
    "colab_type": "text",
    "id": "FKsJYG8xAft9"
   },
   "source": [
    "<br>2.2 Adaptación del modelo base al nuevo data set añadiendo las capas necesarias.<br>\n",
    "> El ouput del modelo base será el input del modelo.<br>\n",
    "> Se añade una capa densa(500) con activación *ReLu*.\n",
    "> Se añade el output acorde al data set de estudio. La última capa densa(2) con activación *sigmoid*"
   ]
  },
  {
   "cell_type": "code",
   "execution_count": 0,
   "metadata": {
    "colab": {},
    "colab_type": "code",
    "id": "8IY7Z_muAfis"
   },
   "outputs": [],
   "source": [
    "# Add final layers\n",
    "x= base_model.output\n",
    "x= Dense(500)(x)\n",
    "x= Activation('relu')(x)\n",
    "x= Dropout(0.5)(x)\n",
    "newModelOutput_2 = Dense(2, activation='sigmoid')(x)"
   ]
  },
  {
   "cell_type": "markdown",
   "metadata": {
    "colab_type": "text",
    "id": "VYACPMBiB4Pu"
   },
   "source": [
    "<br>3. Entrenamiento del modelo."
   ]
  },
  {
   "cell_type": "code",
   "execution_count": 0,
   "metadata": {
    "colab": {},
    "colab_type": "code",
    "id": "9u5K4jmrB4GJ"
   },
   "outputs": [],
   "source": [
    "# build a classifier model to put on top of the convolutional model\n",
    "from keras.models import Model\n",
    "\n",
    "# This is the model we will train\n",
    "ResNet50_3 = Model(input=base_model.input, output=newModelOutput_2)\n",
    "\n",
    "# Freeze the base model layers\n",
    "for layer in ResNet50_3.layers:\n",
    "  layer.trainable = False"
   ]
  },
  {
   "cell_type": "code",
   "execution_count": 124,
   "metadata": {
    "colab": {
     "base_uri": "https://localhost:8080/",
     "height": 363
    },
    "colab_type": "code",
    "id": "gdp4T562iNC1",
    "outputId": "509f8107-d066-479d-e527-510933cd5c6d"
   },
   "outputs": [
    {
     "name": "stdout",
     "output_type": "stream",
     "text": [
      "Train on 14000 samples, validate on 6000 samples\n",
      "Epoch 1/16\n",
      "14000/14000 [==============================] - 37s 3ms/step - loss: 0.5550 - acc: 0.7396 - val_loss: 2.0573 - val_acc: 0.6912\n",
      "Epoch 2/16\n",
      "14000/14000 [==============================] - 22s 2ms/step - loss: 0.4365 - acc: 0.8283 - val_loss: 0.5190 - val_acc: 0.7889\n",
      "Epoch 3/16\n",
      "14000/14000 [==============================] - 22s 2ms/step - loss: 0.3121 - acc: 0.8721 - val_loss: 0.5004 - val_acc: 0.8004\n",
      "Epoch 4/16\n",
      "14000/14000 [==============================] - 22s 2ms/step - loss: 0.2311 - acc: 0.9086 - val_loss: 0.4427 - val_acc: 0.8229\n",
      "Epoch 5/16\n",
      "14000/14000 [==============================] - 22s 2ms/step - loss: 0.1801 - acc: 0.9317 - val_loss: 0.3944 - val_acc: 0.8513\n",
      "Epoch 6/16\n",
      "14000/14000 [==============================] - 22s 2ms/step - loss: 0.3401 - acc: 0.8737 - val_loss: 7.9804 - val_acc: 0.5022\n",
      "Epoch 7/16\n",
      "14000/14000 [==============================] - 22s 2ms/step - loss: 0.5767 - acc: 0.7710 - val_loss: 6.2002 - val_acc: 0.5303\n",
      "Epoch 8/16\n",
      "14000/14000 [==============================] - 22s 2ms/step - loss: 0.6153 - acc: 0.7496 - val_loss: 5.4277 - val_acc: 0.5483\n",
      "Epoch 9/16\n",
      "14000/14000 [==============================] - 22s 2ms/step - loss: 0.4935 - acc: 0.7943 - val_loss: 0.8650 - val_acc: 0.7481\n"
     ]
    }
   ],
   "source": [
    "for layer in ResNet50_3.layers:\n",
    "  layer.trainable = True\n",
    "    \n",
    "ResNet50_3.compile(loss='binary_crossentropy', optimizer='adam', metrics=[\"accuracy\"])\n",
    "ResNet50_3_fit= ResNet50_3.fit(traintensor,\n",
    "               Y_train,\n",
    "               batch_size=128,\n",
    "               epochs=16,\n",
    "               verbose=1,\n",
    "               validation_split=0.3,\n",
    "               callbacks=[es, history]\n",
    ")"
   ]
  },
  {
   "cell_type": "markdown",
   "metadata": {
    "colab_type": "text",
    "id": "dvIowLfZTni7"
   },
   "source": [
    "<br><li>Se guarda el modelo</li>"
   ]
  },
  {
   "cell_type": "code",
   "execution_count": 0,
   "metadata": {
    "colab": {},
    "colab_type": "code",
    "id": "gTOV1K3RTnUl"
   },
   "outputs": [],
   "source": [
    "pathName='/content/drive/My Drive/MDS/38_Deep Learning/practice/data/'\n",
    "fileName='ResNet50_3_fit'\n",
    "fileExtension='pkz'\n",
    "variable= ResNet50_3\n",
    "compressedFileSave(pathName,fileName,fileExtension,variable)"
   ]
  },
  {
   "cell_type": "markdown",
   "metadata": {
    "colab_type": "text",
    "id": "BwHkSv9rCwJv"
   },
   "source": [
    "<br>\n",
    "4. Cálculo del performance del modelo.<br>"
   ]
  },
  {
   "cell_type": "code",
   "execution_count": 126,
   "metadata": {
    "colab": {
     "base_uri": "https://localhost:8080/",
     "height": 108
    },
    "colab_type": "code",
    "id": "ZJiLmU2nCwAE",
    "outputId": "20c0c21f-abff-48c8-c804-cfae7a8395ea"
   },
   "outputs": [
    {
     "name": "stdout",
     "output_type": "stream",
     "text": [
      "20000/20000 [==============================] - 12s 581us/step\n",
      "5000/5000 [==============================] - 3s 570us/step\n",
      "5000/5000 [==============================] - 5s 1ms/step\n",
      "Test loss 0.8303908596515656\n",
      "Test accuracy 0.7539\n"
     ]
    }
   ],
   "source": [
    "train_accuracy = ResNet50_3.evaluate(traintensor, Y_train)[1]\n",
    "score = ResNet50_3.evaluate(testtensor, Y_test)\n",
    "try:\n",
    "  df_score=df_score.reindex(index = ['Test loss','Test accuracy','Train accuracy'])\n",
    "  df_score[\"ResNet50_3\"]= [score[0],score[1],train_accuracy]\n",
    "except:\n",
    "  df_score= pd.DataFrame.from_dict({\"ResNet50_3\":\n",
    "                                     {\n",
    "                                         \"Test loss\":score[0],\n",
    "                                         \"Test accuracy\": score[1],\n",
    "                                         \"Train accuracy\": train_accuracy\n",
    "                                     }\n",
    "                                   })\n",
    "\n",
    "Y_pred_proba_ResNet50_3=  ResNet50_3.predict(testtensor, batch_size=32, verbose=1)\n",
    "Y_pred_ResNet50_3= np.argmax(Y_pred_proba_ResNet50_3, axis=1) \n",
    "print(\"Test loss\", score[0])\n",
    "print(\"Test accuracy\", score[1])"
   ]
  },
  {
   "cell_type": "markdown",
   "metadata": {
    "colab_type": "text",
    "id": "X92C3nIRL0ht"
   },
   "source": [
    "<br><li>Se guarda el history del training</li>"
   ]
  },
  {
   "cell_type": "code",
   "execution_count": 0,
   "metadata": {
    "colab": {},
    "colab_type": "code",
    "id": "o5beSjR-L0Cu"
   },
   "outputs": [],
   "source": [
    "df_epochs_ResNet50_3= pd.DataFrame.from_dict({\n",
    "    'epoch': range(len(ResNet50_3_fit.history['acc'])),\n",
    "    'acc': ResNet50_3_fit.history['acc'],\n",
    "    'loss': ResNet50_3_fit.history['loss']})"
   ]
  },
  {
   "cell_type": "markdown",
   "metadata": {
    "colab_type": "text",
    "id": "811a_XlRaa2T"
   },
   "source": [
    "<br><li>Plot the model.</li>"
   ]
  },
  {
   "cell_type": "code",
   "execution_count": 0,
   "metadata": {
    "colab": {},
    "colab_type": "code",
    "id": "rujCvgAzaZ0L"
   },
   "outputs": [],
   "source": [
    "from keras.utils.vis_utils import plot_model\n",
    "plot_model(ResNet50_3)"
   ]
  },
  {
   "cell_type": "markdown",
   "metadata": {
    "colab_type": "text",
    "id": "7D8OrwKrP4bB"
   },
   "source": [
    "### ResNet50 (4)"
   ]
  },
  {
   "cell_type": "markdown",
   "metadata": {
    "colab_type": "text",
    "id": "l3NNdaE7DSyi"
   },
   "source": [
    "<br>\n",
    " + 3.2 Entrenamiento de todo el modelo.<br>\n",
    " Se entrena todo el modelo pocas épocas (8) por temas de computación."
   ]
  },
  {
   "cell_type": "code",
   "execution_count": 129,
   "metadata": {
    "colab": {
     "base_uri": "https://localhost:8080/",
     "height": 290
    },
    "colab_type": "code",
    "id": "ghC7mw4IDSmM",
    "outputId": "40cbc85d-4ef4-47d4-eb8e-a23942990211"
   },
   "outputs": [
    {
     "name": "stdout",
     "output_type": "stream",
     "text": [
      "Train on 14000 samples, validate on 6000 samples\n",
      "Epoch 1/8\n",
      "14000/14000 [==============================] - 39s 3ms/step - loss: 0.3900 - acc: 0.8510 - val_loss: 0.5645 - val_acc: 0.7641\n",
      "Epoch 2/8\n",
      "14000/14000 [==============================] - 22s 2ms/step - loss: 0.3715 - acc: 0.8535 - val_loss: 0.4609 - val_acc: 0.7791\n",
      "Epoch 3/8\n",
      "14000/14000 [==============================] - 22s 2ms/step - loss: 0.2724 - acc: 0.8883 - val_loss: 0.3357 - val_acc: 0.8628\n",
      "Epoch 4/8\n",
      "14000/14000 [==============================] - 22s 2ms/step - loss: 0.1861 - acc: 0.9262 - val_loss: 0.4470 - val_acc: 0.8264\n",
      "Epoch 5/8\n",
      "14000/14000 [==============================] - 22s 2ms/step - loss: 0.1258 - acc: 0.9500 - val_loss: 0.4068 - val_acc: 0.8661\n",
      "Epoch 6/8\n",
      "14000/14000 [==============================] - 22s 2ms/step - loss: 0.0921 - acc: 0.9640 - val_loss: 0.5290 - val_acc: 0.8374\n",
      "Epoch 7/8\n",
      "14000/14000 [==============================] - 22s 2ms/step - loss: 0.0671 - acc: 0.9762 - val_loss: 0.4741 - val_acc: 0.8623\n"
     ]
    }
   ],
   "source": [
    "# Train the whole model\n",
    "ResNet50_4= ResNet50_3\n",
    "for layer in ResNet50_4.layers:\n",
    "  layer.trainable = True\n",
    "\n",
    "ResNet50_4.compile(loss='binary_crossentropy', optimizer='adam', metrics=[\"accuracy\"])\n",
    "ResNet50_4_fit= ResNet50_4.fit(traintensor,\n",
    "               Y_train,\n",
    "               batch_size=128,\n",
    "               epochs=8,\n",
    "               verbose=1,\n",
    "               validation_split=0.3,\n",
    "               callbacks=[es, history]\n",
    ")"
   ]
  },
  {
   "cell_type": "markdown",
   "metadata": {
    "colab_type": "text",
    "id": "UGxmeh0gTrPc"
   },
   "source": [
    "<br><li>Se guarda el modelo</li>"
   ]
  },
  {
   "cell_type": "code",
   "execution_count": 0,
   "metadata": {
    "colab": {},
    "colab_type": "code",
    "id": "AMU0d3xHTrB_"
   },
   "outputs": [],
   "source": [
    "pathName='/content/drive/My Drive/MDS/38_Deep Learning/practice/data/'\n",
    "fileName='ResNet50_4_fit'\n",
    "fileExtension='pkz'\n",
    "variable= ResNet50_4\n",
    "compressedFileSave(pathName,fileName,fileExtension,variable)"
   ]
  },
  {
   "cell_type": "markdown",
   "metadata": {
    "colab_type": "text",
    "id": "GaQWpQqpDWBN"
   },
   "source": [
    "<br>\n",
    "4. Cálculo del performance del modelo.<br>"
   ]
  },
  {
   "cell_type": "code",
   "execution_count": 131,
   "metadata": {
    "colab": {
     "base_uri": "https://localhost:8080/",
     "height": 108
    },
    "colab_type": "code",
    "id": "gRkBPYSGDV3c",
    "outputId": "b604e690-35ba-4e14-c548-f29d532b7eab"
   },
   "outputs": [
    {
     "name": "stdout",
     "output_type": "stream",
     "text": [
      "20000/20000 [==============================] - 11s 575us/step\n",
      "5000/5000 [==============================] - 3s 569us/step\n",
      "5000/5000 [==============================] - 6s 1ms/step\n",
      "Test loss 0.481430757522583\n",
      "Test accuracy 0.8651\n"
     ]
    }
   ],
   "source": [
    "train_accuracy = ResNet50_4.evaluate(traintensor, Y_train)[1]\n",
    "score = ResNet50_4.evaluate(testtensor, Y_test)\n",
    "try:\n",
    "  df_score=df_score.reindex(index = ['Test loss','Test accuracy','Train accuracy'])\n",
    "  df_score[\"ResNet50_4\"]= [score[0],score[1],train_accuracy]\n",
    "except:\n",
    "  df_score= pd.DataFrame.from_dict({\"ResNet50_4\":\n",
    "                                     {\n",
    "                                         \"Test loss\":score[0],\n",
    "                                         \"Test accuracy\": score[1],\n",
    "                                         \"Train accuracy\": train_accuracy\n",
    "                                     }\n",
    "                                   })\n",
    "\n",
    "Y_pred_proba_ResNet50_4=  ResNet50_4.predict(testtensor, batch_size=32, verbose=1)\n",
    "Y_pred_ResNet50_4= np.argmax(Y_pred_proba_ResNet50_4, axis=1)\n",
    "print(\"Test loss\", score[0])\n",
    "print(\"Test accuracy\", score[1])"
   ]
  },
  {
   "cell_type": "markdown",
   "metadata": {
    "colab_type": "text",
    "id": "8ST977whMBa1"
   },
   "source": [
    "<br><li>Se guarda el history del training</li>"
   ]
  },
  {
   "cell_type": "code",
   "execution_count": 0,
   "metadata": {
    "colab": {},
    "colab_type": "code",
    "id": "PJ8iQ01bMBCx"
   },
   "outputs": [],
   "source": [
    "df_epochs_ResNet50_4= pd.DataFrame.from_dict({\n",
    "    'epoch': range(len(ResNet50_4_fit.history['acc'])),\n",
    "    'acc': ResNet50_4_fit.history['acc'],\n",
    "    'loss': ResNet50_4_fit.history['loss']})"
   ]
  },
  {
   "cell_type": "markdown",
   "metadata": {
    "colab_type": "text",
    "id": "fpKFCBUkbBtG"
   },
   "source": [
    "# Analyzing the results"
   ]
  },
  {
   "cell_type": "markdown",
   "metadata": {
    "colab_type": "text",
    "id": "g8EWleZybGgB"
   },
   "source": [
    "***\n",
    "\n",
    "<font color=#ad3e26>\n",
    "Find and show some test images for which your model fails. Can you give an explanation for this behavior?</font>\n",
    "\n",
    "***"
   ]
  },
  {
   "cell_type": "markdown",
   "metadata": {
    "colab_type": "text",
    "id": "uSlyqAA6Skeg"
   },
   "source": [
    "## Load models (optional)"
   ]
  },
  {
   "cell_type": "markdown",
   "metadata": {
    "colab_type": "text",
    "id": "1Q8HT-Oab1KR"
   },
   "source": [
    "<br><li>Se cargan los modelos entrenados  y se guardan en un diccionario.</li>"
   ]
  },
  {
   "cell_type": "code",
   "execution_count": 0,
   "metadata": {
    "colab": {},
    "colab_type": "code",
    "id": "BDVFHo22VY8j"
   },
   "outputs": [],
   "source": [
    "modelList= df_score.columns\n",
    "modelList_fit=[model+'_fit' for model in modelList]"
   ]
  },
  {
   "cell_type": "code",
   "execution_count": 0,
   "metadata": {
    "colab": {},
    "colab_type": "code",
    "id": "ViboOH0zVkB6"
   },
   "outputs": [],
   "source": [
    "pathName='/content/drive/My Drive/MDS/38_Deep Learning/practice/data/'\n",
    "fileName\n",
    "fileExtension='pkz'\n",
    "modelDict_fit= {\n",
    "    fileName: compressedFileLoad(pathName,fileName,fileExtension) \n",
    "    for fileName in modelList_fit\n",
    "} "
   ]
  },
  {
   "cell_type": "markdown",
   "metadata": {
    "colab_type": "text",
    "id": "tmoWePNxyFTS"
   },
   "source": [
    "## Performance & predicitions"
   ]
  },
  {
   "cell_type": "markdown",
   "metadata": {
    "colab_type": "text",
    "id": "QMu-Uxe-bnPc"
   },
   "source": [
    "<br><li>Se obtienen los scores de performance  tanto en test como en  train</li>"
   ]
  },
  {
   "cell_type": "markdown",
   "metadata": {
    "colab_type": "text",
    "id": "2fGvOfgDZpGv"
   },
   "source": [
    "<strong>SOLO EJECUTAR SI SE CARGAN LOS MODELOS ENTRENADOS (CELDA ANTERIOR)</strong>"
   ]
  },
  {
   "cell_type": "code",
   "execution_count": 139,
   "metadata": {
    "colab": {
     "base_uri": "https://localhost:8080/",
     "height": 244
    },
    "colab_type": "code",
    "id": "yi6-PstgZpSx",
    "outputId": "b43d5b28-08fa-48c7-ca31-8c24d1160112"
   },
   "outputs": [
    {
     "ename": "AttributeError",
     "evalue": "ignored",
     "output_type": "error",
     "traceback": [
      "\u001b[0;31m---------------------------------------------------------------------------\u001b[0m",
      "\u001b[0;31mAttributeError\u001b[0m                            Traceback (most recent call last)",
      "\u001b[0;32m<ipython-input-139-4d297adaf07c>\u001b[0m in \u001b[0;36m<module>\u001b[0;34m()\u001b[0m\n\u001b[1;32m      1\u001b[0m \u001b[0;32mfor\u001b[0m \u001b[0mmodel_name\u001b[0m\u001b[0;34m,\u001b[0m \u001b[0mmodel_fit\u001b[0m \u001b[0;32min\u001b[0m \u001b[0mmodelDict_fit\u001b[0m\u001b[0;34m.\u001b[0m\u001b[0mitems\u001b[0m\u001b[0;34m(\u001b[0m\u001b[0;34m)\u001b[0m\u001b[0;34m:\u001b[0m\u001b[0;34m\u001b[0m\u001b[0;34m\u001b[0m\u001b[0m\n\u001b[0;32m----> 2\u001b[0;31m   \u001b[0mscore_train\u001b[0m \u001b[0;34m=\u001b[0m \u001b[0mmodel_fit\u001b[0m\u001b[0;34m.\u001b[0m\u001b[0mevaluate\u001b[0m\u001b[0;34m(\u001b[0m\u001b[0mtraintensor\u001b[0m\u001b[0;34m,\u001b[0m \u001b[0mY_train\u001b[0m\u001b[0;34m)\u001b[0m\u001b[0;34m\u001b[0m\u001b[0;34m\u001b[0m\u001b[0m\n\u001b[0m\u001b[1;32m      3\u001b[0m   \u001b[0mscore_test\u001b[0m \u001b[0;34m=\u001b[0m \u001b[0mmodel_fit\u001b[0m\u001b[0;34m.\u001b[0m\u001b[0mevaluate\u001b[0m\u001b[0;34m(\u001b[0m\u001b[0mtesttensor\u001b[0m\u001b[0;34m,\u001b[0m \u001b[0mY_test\u001b[0m\u001b[0;34m)\u001b[0m\u001b[0;34m\u001b[0m\u001b[0;34m\u001b[0m\u001b[0m\n\u001b[1;32m      4\u001b[0m   \u001b[0;32mtry\u001b[0m\u001b[0;34m:\u001b[0m\u001b[0;34m\u001b[0m\u001b[0;34m\u001b[0m\u001b[0m\n\u001b[1;32m      5\u001b[0m     \u001b[0mdf_score\u001b[0m\u001b[0;34m=\u001b[0m \u001b[0mdf_score\u001b[0m\u001b[0;34m.\u001b[0m\u001b[0mreindex\u001b[0m\u001b[0;34m(\u001b[0m\u001b[0mindex\u001b[0m \u001b[0;34m=\u001b[0m \u001b[0;34m[\u001b[0m\u001b[0;34m'Test loss'\u001b[0m\u001b[0;34m,\u001b[0m\u001b[0;34m'Test accuracy'\u001b[0m\u001b[0;34m,\u001b[0m\u001b[0;34m'Train accuracy'\u001b[0m\u001b[0;34m]\u001b[0m\u001b[0;34m)\u001b[0m\u001b[0;34m\u001b[0m\u001b[0;34m\u001b[0m\u001b[0m\n",
      "\u001b[0;31mAttributeError\u001b[0m: 'History' object has no attribute 'evaluate'"
     ]
    }
   ],
   "source": [
    "for model_name, model_fit in modelDict_fit.items():\n",
    "  score_train = model_fit.evaluate(traintensor, Y_train)\n",
    "  score_test = model_fit.evaluate(testtensor, Y_test)\n",
    "  try:\n",
    "    df_score= df_score.reindex(index = ['Test loss','Test accuracy','Train accuracy'])\n",
    "    df_score[model_name]= [score[0],score[1],train_accuracy]\n",
    "  except:\n",
    "    df_score= pd.DataFrame.from_dict({model_name:\n",
    "                                       {\n",
    "                                           \"Test loss\":score_test[0],\n",
    "                                           \"Test accuracy\": score_test[1],\n",
    "                                           \"Train accuracy\": score_train[1]\n",
    "                                       }\n",
    "                                     })"
   ]
  },
  {
   "cell_type": "code",
   "execution_count": 136,
   "metadata": {
    "colab": {
     "base_uri": "https://localhost:8080/",
     "height": 138
    },
    "colab_type": "code",
    "id": "vpq8WovObcwt",
    "outputId": "f318d0d0-a500-4bbd-c22b-747b65cd37e9"
   },
   "outputs": [
    {
     "data": {
      "text/html": [
       "<div>\n",
       "<style scoped>\n",
       "    .dataframe tbody tr th:only-of-type {\n",
       "        vertical-align: middle;\n",
       "    }\n",
       "\n",
       "    .dataframe tbody tr th {\n",
       "        vertical-align: top;\n",
       "    }\n",
       "\n",
       "    .dataframe thead th {\n",
       "        text-align: right;\n",
       "    }\n",
       "</style>\n",
       "<table border=\"1\" class=\"dataframe\">\n",
       "  <thead>\n",
       "    <tr style=\"text-align: right;\">\n",
       "      <th></th>\n",
       "      <th>model1</th>\n",
       "      <th>model2</th>\n",
       "      <th>model3</th>\n",
       "      <th>LeNet</th>\n",
       "      <th>LeNet_es</th>\n",
       "      <th>imgAugModel</th>\n",
       "      <th>ResNet50_1</th>\n",
       "      <th>ResNet50_2</th>\n",
       "      <th>ResNet50_3</th>\n",
       "      <th>ResNet50_4</th>\n",
       "    </tr>\n",
       "  </thead>\n",
       "  <tbody>\n",
       "    <tr>\n",
       "      <th>Test loss</th>\n",
       "      <td>0.523052</td>\n",
       "      <td>0.975427</td>\n",
       "      <td>0.644062</td>\n",
       "      <td>0.762227</td>\n",
       "      <td>0.463713</td>\n",
       "      <td>0.494721</td>\n",
       "      <td>0.720542</td>\n",
       "      <td>0.761156</td>\n",
       "      <td>0.830391</td>\n",
       "      <td>0.481431</td>\n",
       "    </tr>\n",
       "    <tr>\n",
       "      <th>Test accuracy</th>\n",
       "      <td>0.773400</td>\n",
       "      <td>0.779400</td>\n",
       "      <td>0.768500</td>\n",
       "      <td>0.829600</td>\n",
       "      <td>0.800500</td>\n",
       "      <td>0.765500</td>\n",
       "      <td>0.495600</td>\n",
       "      <td>0.525500</td>\n",
       "      <td>0.753900</td>\n",
       "      <td>0.865100</td>\n",
       "    </tr>\n",
       "    <tr>\n",
       "      <th>Train accuracy</th>\n",
       "      <td>0.910200</td>\n",
       "      <td>0.999900</td>\n",
       "      <td>0.996550</td>\n",
       "      <td>0.999850</td>\n",
       "      <td>0.908425</td>\n",
       "      <td>0.816500</td>\n",
       "      <td>0.497700</td>\n",
       "      <td>0.516400</td>\n",
       "      <td>0.765775</td>\n",
       "      <td>0.937250</td>\n",
       "    </tr>\n",
       "  </tbody>\n",
       "</table>\n",
       "</div>"
      ],
      "text/plain": [
       "                  model1    model2    model3     LeNet  LeNet_es  imgAugModel  \\\n",
       "Test loss       0.523052  0.975427  0.644062  0.762227  0.463713     0.494721   \n",
       "Test accuracy   0.773400  0.779400  0.768500  0.829600  0.800500     0.765500   \n",
       "Train accuracy  0.910200  0.999900  0.996550  0.999850  0.908425     0.816500   \n",
       "\n",
       "                ResNet50_1  ResNet50_2  ResNet50_3  ResNet50_4  \n",
       "Test loss         0.720542    0.761156    0.830391    0.481431  \n",
       "Test accuracy     0.495600    0.525500    0.753900    0.865100  \n",
       "Train accuracy    0.497700    0.516400    0.765775    0.937250  "
      ]
     },
     "execution_count": 136,
     "metadata": {
      "tags": []
     },
     "output_type": "execute_result"
    }
   ],
   "source": [
    "df_score"
   ]
  },
  {
   "cell_type": "markdown",
   "metadata": {
    "colab_type": "text",
    "id": "WVg8jaZHyMWF"
   },
   "source": [
    "<br><li>Se botiene el dataframe de predicciones</li>"
   ]
  },
  {
   "cell_type": "code",
   "execution_count": 156,
   "metadata": {
    "colab": {
     "base_uri": "https://localhost:8080/",
     "height": 198
    },
    "colab_type": "code",
    "id": "LfWt0RBlaNnV",
    "outputId": "8f794041-0439-4874-84c8-237d1ca8f75e"
   },
   "outputs": [
    {
     "data": {
      "text/html": [
       "<div>\n",
       "<style scoped>\n",
       "    .dataframe tbody tr th:only-of-type {\n",
       "        vertical-align: middle;\n",
       "    }\n",
       "\n",
       "    .dataframe tbody tr th {\n",
       "        vertical-align: top;\n",
       "    }\n",
       "\n",
       "    .dataframe thead th {\n",
       "        text-align: right;\n",
       "    }\n",
       "</style>\n",
       "<table border=\"1\" class=\"dataframe\">\n",
       "  <thead>\n",
       "    <tr style=\"text-align: right;\">\n",
       "      <th></th>\n",
       "      <th>test</th>\n",
       "      <th>model1</th>\n",
       "      <th>model2</th>\n",
       "      <th>model3</th>\n",
       "      <th>LeNet</th>\n",
       "      <th>LeNet_es</th>\n",
       "      <th>imgAugModel</th>\n",
       "      <th>ResNet50_1</th>\n",
       "      <th>ResNet50_2</th>\n",
       "      <th>ResNet50_3</th>\n",
       "      <th>ResNet50_4</th>\n",
       "    </tr>\n",
       "  </thead>\n",
       "  <tbody>\n",
       "    <tr>\n",
       "      <th>0</th>\n",
       "      <td>1</td>\n",
       "      <td>1</td>\n",
       "      <td>1</td>\n",
       "      <td>0</td>\n",
       "      <td>1</td>\n",
       "      <td>1</td>\n",
       "      <td>0</td>\n",
       "      <td>1</td>\n",
       "      <td>1</td>\n",
       "      <td>1</td>\n",
       "      <td>1</td>\n",
       "    </tr>\n",
       "    <tr>\n",
       "      <th>1</th>\n",
       "      <td>0</td>\n",
       "      <td>0</td>\n",
       "      <td>0</td>\n",
       "      <td>0</td>\n",
       "      <td>0</td>\n",
       "      <td>0</td>\n",
       "      <td>0</td>\n",
       "      <td>1</td>\n",
       "      <td>0</td>\n",
       "      <td>0</td>\n",
       "      <td>0</td>\n",
       "    </tr>\n",
       "    <tr>\n",
       "      <th>2</th>\n",
       "      <td>1</td>\n",
       "      <td>1</td>\n",
       "      <td>1</td>\n",
       "      <td>1</td>\n",
       "      <td>0</td>\n",
       "      <td>1</td>\n",
       "      <td>0</td>\n",
       "      <td>0</td>\n",
       "      <td>1</td>\n",
       "      <td>1</td>\n",
       "      <td>1</td>\n",
       "    </tr>\n",
       "    <tr>\n",
       "      <th>3</th>\n",
       "      <td>1</td>\n",
       "      <td>0</td>\n",
       "      <td>1</td>\n",
       "      <td>0</td>\n",
       "      <td>0</td>\n",
       "      <td>1</td>\n",
       "      <td>1</td>\n",
       "      <td>0</td>\n",
       "      <td>1</td>\n",
       "      <td>1</td>\n",
       "      <td>1</td>\n",
       "    </tr>\n",
       "    <tr>\n",
       "      <th>4</th>\n",
       "      <td>1</td>\n",
       "      <td>1</td>\n",
       "      <td>1</td>\n",
       "      <td>1</td>\n",
       "      <td>1</td>\n",
       "      <td>0</td>\n",
       "      <td>0</td>\n",
       "      <td>0</td>\n",
       "      <td>1</td>\n",
       "      <td>0</td>\n",
       "      <td>0</td>\n",
       "    </tr>\n",
       "  </tbody>\n",
       "</table>\n",
       "</div>"
      ],
      "text/plain": [
       "   test  model1  model2  model3  LeNet  LeNet_es  imgAugModel  ResNet50_1  \\\n",
       "0     1       1       1       0      1         1            0           1   \n",
       "1     0       0       0       0      0         0            0           1   \n",
       "2     1       1       1       1      0         1            0           0   \n",
       "3     1       0       1       0      0         1            1           0   \n",
       "4     1       1       1       1      1         0            0           0   \n",
       "\n",
       "   ResNet50_2  ResNet50_3  ResNet50_4  \n",
       "0           1           1           1  \n",
       "1           0           0           0  \n",
       "2           1           1           1  \n",
       "3           1           1           1  \n",
       "4           1           0           0  "
      ]
     },
     "execution_count": 156,
     "metadata": {
      "tags": []
     },
     "output_type": "execute_result"
    }
   ],
   "source": [
    "df_predict= pd.DataFrame.from_dict({\n",
    "    'test': y_test_orig\n",
    "})\n",
    "for model in modelList:\n",
    "  df_predict[model]= eval('Y_pred_'+model)\n",
    "df_predict.head()"
   ]
  },
  {
   "cell_type": "markdown",
   "metadata": {
    "colab_type": "text",
    "id": "JgIoScAyQGEA"
   },
   "source": [
    "## Failure in image prediction"
   ]
  },
  {
   "cell_type": "markdown",
   "metadata": {
    "colab_type": "text",
    "id": "5X8RzFL2mtFf"
   },
   "source": [
    "<br><li>Se obtiene el índice de las fotos fallidas</li>"
   ]
  },
  {
   "cell_type": "code",
   "execution_count": 0,
   "metadata": {
    "colab": {},
    "colab_type": "code",
    "id": "XVsiZHLhJcX9"
   },
   "outputs": [],
   "source": [
    "imgPredFailure_dict={}\n",
    "for model in modelList:\n",
    "  imgPredFailure_idx=[]\n",
    "  if (len(y_test_orig)==len(df_predict[model])):\n",
    "    for idx in range(len(y_test_orig)):\n",
    "      if (y_test_orig[idx] != df_predict[model][idx]):\n",
    "        imgPredFailure_idx.append(idx)\n",
    "        imgPredFailure_dict[model]= imgPredFailure_idx"
   ]
  },
  {
   "cell_type": "markdown",
   "metadata": {
    "colab_type": "text",
    "id": "KrPj64lKnWkc"
   },
   "source": [
    "<br><li>Se plotea alguna imagen.</li>"
   ]
  },
  {
   "cell_type": "code",
   "execution_count": 159,
   "metadata": {
    "colab": {
     "base_uri": "https://localhost:8080/",
     "height": 400
    },
    "colab_type": "code",
    "id": "3XXWvsR7oIgJ",
    "outputId": "80a6359a-9074-4b05-de02-cee3a7a8e15c"
   },
   "outputs": [
    {
     "name": "stderr",
     "output_type": "stream",
     "text": [
      "Clipping input data to the valid range for imshow with RGB data ([0..1] for floats or [0..255] for integers).\n",
      "Clipping input data to the valid range for imshow with RGB data ([0..1] for floats or [0..255] for integers).\n",
      "Clipping input data to the valid range for imshow with RGB data ([0..1] for floats or [0..255] for integers).\n"
     ]
    },
    {
     "data": {
      "image/png": "[encoded data removed]",
      "text/plain": [
       "<Figure size 1296x576 with 3 Axes>"
      ]
     },
     "metadata": {
      "tags": []
     },
     "output_type": "display_data"
    }
   ],
   "source": [
    "model= 'model1'\n",
    "plt.figure( figsize=(18, 8))\n",
    "for pos in range(3):\n",
    "  plt.subplot(1, 3, pos+1)\n",
    "  fail_img = X_test[imgPredFailure_dict[model][pos]]\n",
    "  plt.imshow(fail_img)"
   ]
  },
  {
   "cell_type": "markdown",
   "metadata": {
    "colab_type": "text",
    "id": "taJsibB4bHq4"
   },
   "source": [
    "***\n",
    "\n",
    "<font color=#ad3e26>\n",
    "Write a small report summarizing the network choices you have tried, what worked and what didn't. What have you learned from this experience?</font>\n",
    "\n",
    "***"
   ]
  },
  {
   "cell_type": "markdown",
   "metadata": {
    "colab_type": "text",
    "id": "RiXhBVGmQnXU"
   },
   "source": [
    "## Sum-up & Conclusions"
   ]
  },
  {
   "cell_type": "markdown",
   "metadata": {
    "colab_type": "text",
    "id": "gHuFfYh1lSHW"
   },
   "source": [
    "<br><li>Confusion Matrix</li>"
   ]
  },
  {
   "cell_type": "markdown",
   "metadata": {
    "colab_type": "text",
    "id": "1EGHE3Oe-bRn"
   },
   "source": [
    "<br><li>Se guardan en un diccionario las matrices de confusion.</li>"
   ]
  },
  {
   "cell_type": "code",
   "execution_count": 0,
   "metadata": {
    "colab": {},
    "colab_type": "code",
    "id": "gv6FEpiZ7RXn"
   },
   "outputs": [],
   "source": [
    "cmDict={\n",
    "    model: confusion_matrix(df_predict['test'],df_predict[model])\n",
    "    for model in modelList\n",
    "}"
   ]
  },
  {
   "cell_type": "markdown",
   "metadata": {
    "colab_type": "text",
    "id": "FrYCfrg4OWZ4"
   },
   "source": [
    "<li>Se plotean las matrices de confusión</li>"
   ]
  },
  {
   "cell_type": "code",
   "execution_count": 162,
   "metadata": {
    "colab": {
     "base_uri": "https://localhost:8080/",
     "height": 226
    },
    "colab_type": "code",
    "id": "QDRKOdQ73zso",
    "outputId": "19309095-7fca-4162-9fb8-08ab208f12ee"
   },
   "outputs": [
    {
     "data": {
      "image/png": "[encoded data removed]",
      "text/plain": [
       "<Figure size 1440x216 with 8 Axes>"
      ]
     },
     "metadata": {
      "tags": []
     },
     "output_type": "display_data"
    }
   ],
   "source": [
    "plt.figure( figsize=(20, 3))\n",
    "plt.subplot(1,4,1)\n",
    "plot_confusion_matrix(cm=cmDict[modelList[0]], dim=len(y_test_orig), model=modelList[0])\n",
    "plt.subplot(1,4,2)\n",
    "plot_confusion_matrix(cm=cmDict[modelList[1]], dim=len(y_test_orig), model=modelList[1])\n",
    "plt.subplot(1,4,3)\n",
    "plot_confusion_matrix(cm=cmDict[modelList[2]], dim=len(y_test_orig), model=modelList[2])\n",
    "plt.subplot(1,4,4)\n",
    "plot_confusion_matrix(cm=cmDict[modelList[3]], dim=len(y_test_orig), model=modelList[3])\n",
    "plt.show()"
   ]
  },
  {
   "cell_type": "code",
   "execution_count": 164,
   "metadata": {
    "colab": {
     "base_uri": "https://localhost:8080/",
     "height": 226
    },
    "colab_type": "code",
    "id": "fmiRFJWJdXVe",
    "outputId": "0cf59e74-586f-4067-8c3a-2e61c0eaeb24"
   },
   "outputs": [
    {
     "data": {
      "image/png": "[encoded data removed]",
      "text/plain": [
       "<Figure size 1440x216 with 8 Axes>"
      ]
     },
     "metadata": {
      "tags": []
     },
     "output_type": "display_data"
    }
   ],
   "source": [
    "plt.figure( figsize=(20, 3))\n",
    "plt.subplot(1,4,1)\n",
    "plot_confusion_matrix(cm=cmDict[modelList[4]], dim=len(y_test_orig), model=modelList[4])\n",
    "plt.subplot(1,4,2)\n",
    "plot_confusion_matrix(cm=cmDict[modelList[5]], dim=len(y_test_orig), model=modelList[5])\n",
    "plt.subplot(1,4,3)\n",
    "plot_confusion_matrix(cm=cmDict[modelList[6]], dim=len(y_test_orig), model=modelList[6])\n",
    "plt.subplot(1,4,4)\n",
    "plot_confusion_matrix(cm=cmDict[modelList[7]], dim=len(y_test_orig), model=modelList[7])\n",
    "plt.show()"
   ]
  },
  {
   "cell_type": "markdown",
   "metadata": {
    "colab_type": "text",
    "id": "dp0KUOJXlehe"
   },
   "source": [
    "<br><li>Performance</li>"
   ]
  },
  {
   "cell_type": "code",
   "execution_count": 165,
   "metadata": {
    "colab": {
     "base_uri": "https://localhost:8080/",
     "height": 498
    },
    "colab_type": "code",
    "id": "bqUaKZMwljMW",
    "outputId": "5bd17ca1-f04e-4296-b993-98bd53b0ddfd"
   },
   "outputs": [
    {
     "data": {
      "image/png": "[encoded data removed]",
      "text/plain": [
       "<Figure size 720x576 with 1 Axes>"
      ]
     },
     "metadata": {
      "tags": []
     },
     "output_type": "display_data"
    }
   ],
   "source": [
    "df_score_plot=df_score.T\n",
    "df_score_plot.sort_values(by='Test accuracy',ascending=False, inplace=True)\n",
    "plt.figure( figsize=(10, 8))\n",
    "plt.title('Performance: Accuracy')\n",
    "_=sns.barplot(x=df_score_plot.index, y=round(df_score_plot['Test accuracy'],2),color='skyblue')"
   ]
  },
  {
   "cell_type": "markdown",
   "metadata": {
    "colab_type": "text",
    "id": "coqjvdrfVnh8"
   },
   "source": [
    "<br><li>Se plotea la relación accuracy *vs* loss fnc</li>"
   ]
  },
  {
   "cell_type": "code",
   "execution_count": 167,
   "metadata": {
    "colab": {
     "base_uri": "https://localhost:8080/",
     "height": 295
    },
    "colab_type": "code",
    "id": "3uooBIW-_ubg",
    "outputId": "4678f579-3f8b-4094-b751-b58b5c6f6d5a"
   },
   "outputs": [
    {
     "data": {
      "image/png": "[encoded data removed]",
      "text/plain": [
       "<Figure size 432x288 with 1 Axes>"
      ]
     },
     "metadata": {
      "tags": []
     },
     "output_type": "display_data"
    }
   ],
   "source": [
    "# Plot training & validation accuracy values\n",
    "plt.plot(df_epochs_model1['acc'])\n",
    "plt.plot(df_epochs_model1['loss'])\n",
    "plt.title('Model accuracy vs Loss fnc')\n",
    "plt.ylabel('Accuracy & Loss')\n",
    "plt.xlabel('Epoch')\n",
    "plt.legend(['acc', 'loss'], loc='upper left')\n",
    "plt.show()\n",
    "\n"
   ]
  },
  {
   "cell_type": "markdown",
   "metadata": {
    "colab_type": "text",
    "id": "VLDrFLxDF1G-"
   },
   "source": [
    "A la vista de las gráficas se pueden extraer ciertas consideraciones.\n",
    "\n",
    "+ 1. El mejor modelo es *ResNet50_4*.\n",
    "+ 2. Se han aplicado técnicas que tendrían que mejorar el modelo anterior.\n",
    "> 2.1 model1,2,3. Modelos simples.<br>\n",
    "> 2.2 LeNet. Un modelo más complejo que los 3 primeros (que además se construyeron aleatoriamente sin ningún tipo de prueba error).<br>\n",
    "> 2.3 LeNet_es. Modelo LeNet + aplicación de EarlyStopping, que evita el overfitting al detener el entrenamiento antes del sobre ajuste.<br>\n",
    "> 2.4 imgAugModel. modelo2 + aplicación de técnicas de generación de patrones nuevos, que busca aumentar el número de patrones del data set de entrenamiento dándole una mayor aleatoriedad al modelo.<br>\n",
    "> 2.5 ResNet50_1. Modelo pre-entrenado ResNet50, modelo con técnicas de *residuals conections*, y entrenamiento con técnicas de congelación de las capas convolucionales del modelo base. Estos modelo son muy complejos con muy bue performance ya probados. <br>\n",
    "> 2.6 ResNet50_2.  Modelo pre-entrenado ResNet50_1 + entrenamiento del modelo completo, que refina el modelo anterior con el entrenamiento del modelo global.<br>\n",
    "> 2.7 ResNet50_3. Modelo pre-entrenado ResNet50_1 + capa densa (500) + activaión *ReLu*, que da una mayor complejidad al modelo en la parte de adaptación al nuevo data set de estudio.  <br>\n",
    "> 2.8 ResNet50_4.Modelo pre-entrenado ResNet50_3 + entrenamiento del modelo completo, suma de las dos mejoras anteriores.<br>\n",
    "+ 3. Hay ciertas mejoras que no han funcionado como se esperaban:\n",
    ">> 3.1 La técnica de early stopping. Podrías ser porque el modelo no llega al overfitting con el número de épocas de la configuración del modelo (realtivamente pocas por temas de computación)\n",
    ">> 3.2 La generacón de patrones nuevos. Una causa podría ser que esta es una técnica para data set pequeños y en este caso puede considerarse suficiente.\n",
    ">> 3.3 La utilización del modelo pre-entreando solo ha funcionado cuando se ha metido una capa densa posterior. ha mejorado mucho.\n",
    "+ 4. Se podría mejorar el coste de computación analizando el incremento de la función de perdida en la optimización de cada época para ajustar el parámetro *min_delta*. Para ello se plotea el valor de la función de perdida en cada época.\n",
    "+5. Se podría observar si el modelo sobre entrena analizando la gráfica *accuracy* en test *vs* *accuracy* en train época a época. De tal manera que se podría intervenir en el modelo deteniéndolo para mejorar el accuraccy en test."
   ]
  },
  {
   "cell_type": "code",
   "execution_count": 0,
   "metadata": {
    "colab": {},
    "colab_type": "code",
    "id": "EW8Mk2NVQJ2w"
   },
   "outputs": [],
   "source": []
  }
 ],
 "metadata": {
  "accelerator": "GPU",
  "colab": {
   "collapsed_sections": [],
   "name": "inigo_fernandez_deep_learning_afi_2019_3.ipynb",
   "provenance": [],
   "toc_visible": true,
   "version": "0.3.2"
  },
  "kernelspec": {
   "display_name": "Python 3",
   "language": "python",
   "name": "python3"
  },
  "language_info": {
   "codemirror_mode": {
    "name": "ipython",
    "version": 3
   },
   "file_extension": ".py",
   "mimetype": "text/x-python",
   "name": "python",
   "nbconvert_exporter": "python",
   "pygments_lexer": "ipython3",
   "version": "3.6.5"
  },
  "varInspector": {
   "cols": {
    "lenName": 16,
    "lenType": 16,
    "lenVar": 40
   },
   "kernels_config": {
    "python": {
     "delete_cmd_postfix": "",
     "delete_cmd_prefix": "del ",
     "library": "var_list.py",
     "varRefreshCmd": "print(var_dic_list())"
    },
    "r": {
     "delete_cmd_postfix": ") ",
     "delete_cmd_prefix": "rm(",
     "library": "var_list.r",
     "varRefreshCmd": "cat(var_dic_list()) "
    }
   },
   "types_to_exclude": [
    "module",
    "function",
    "builtin_function_or_method",
    "instance",
    "_Feature"
   ],
   "window_display": false
  }
 },
 "nbformat": 4,
 "nbformat_minor": 1
}
